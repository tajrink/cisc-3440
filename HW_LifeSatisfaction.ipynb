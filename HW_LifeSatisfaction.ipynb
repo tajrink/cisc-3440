{
  "nbformat": 4,
  "nbformat_minor": 0,
  "metadata": {
    "colab": {
      "provenance": [],
      "collapsed_sections": [],
      "include_colab_link": true
    },
    "kernelspec": {
      "name": "python3",
      "display_name": "Python 3"
    },
    "language_info": {
      "name": "python"
    }
  },
  "cells": [
    {
      "cell_type": "markdown",
      "metadata": {
        "id": "view-in-github",
        "colab_type": "text"
      },
      "source": [
        "<a href=\"https://colab.research.google.com/github/tajrink/cisc-3440/blob/main/HW_LifeSatisfaction.ipynb\" target=\"_parent\"><img src=\"https://colab.research.google.com/assets/colab-badge.svg\" alt=\"Open In Colab\"/></a>"
      ]
    },
    {
      "cell_type": "code",
      "execution_count": 2,
      "metadata": {
        "id": "A1lW8zZGOZph"
      },
      "outputs": [],
      "source": [
        "# Import pandas, matplotlib and numpy\n",
        "import pandas as pd\n",
        "from matplotlib import pyplot as plt\n",
        "import matplotlib as mpl\n",
        "\n",
        "import numpy as np\n",
        "\n",
        "# Import sklearn model and metrics function\n",
        "from sklearn.linear_model import LinearRegression\n",
        "from sklearn.metrics import mean_squared_error\n",
        "\n",
        "# Import k-nearest-neighbors regressor for homework\n",
        "from sklearn.neighbors import KNeighborsRegressor"
      ]
    },
    {
      "cell_type": "code",
      "source": [
        "# Load the life satisfaction CSV into a dataframe\n",
        "df = pd.read_csv('https://raw.githubusercontent.com/CUNY-CISC3440-Fall2022/datasets/main/life_satisfaction.csv')"
      ],
      "metadata": {
        "id": "4t4UjSekPOkP"
      },
      "execution_count": 3,
      "outputs": []
    },
    {
      "cell_type": "code",
      "source": [
        "# View the data in the dataframe\n",
        "df"
      ],
      "metadata": {
        "colab": {
          "base_uri": "https://localhost:8080/",
          "height": 959
        },
        "id": "zugXQZNTwKBP",
        "outputId": "1df8afc3-3d02-45b4-aecc-1bf0bdc181af"
      },
      "execution_count": 4,
      "outputs": [
        {
          "output_type": "execute_result",
          "data": {
            "text/plain": [
              "            country  gdp_per_capita  life_satisfaction\n",
              "0            Brazil        8669.998                6.4\n",
              "1            Mexico        9009.280                6.5\n",
              "2            Russia        9054.914                5.8\n",
              "3            Turkey        9437.372                5.5\n",
              "4            Poland       12495.334                6.1\n",
              "5            Latvia       13618.569                5.9\n",
              "6         Lithuania       14210.280                5.9\n",
              "7   Slovak Republic       15991.736                6.2\n",
              "8    Czech Republic       17256.918                6.7\n",
              "9           Estonia       17288.083                5.7\n",
              "10           Greece       18064.288                5.4\n",
              "11         Portugal       19121.592                5.4\n",
              "12         Slovenia       20732.482                5.9\n",
              "13            Spain       25864.721                6.3\n",
              "14            Korea       27195.197                5.9\n",
              "15            Italy       29866.581                6.0\n",
              "16            Japan       32485.545                5.9\n",
              "17           Israel       35343.336                7.2\n",
              "18      New Zealand       37044.891                7.3\n",
              "19           France       37675.006                6.5\n",
              "20          Belgium       40106.632                6.9\n",
              "21          Germany       40996.511                7.0\n",
              "22          Finland       41973.988                7.6\n",
              "23           Canada       43331.961                7.4\n",
              "24      Netherlands       43603.115                7.4\n",
              "25          Austria       43724.031                7.1\n",
              "26   United Kingdom       43770.688                6.8\n",
              "27           Sweden       49866.266                7.3\n",
              "28          Iceland       50854.583                7.5"
            ],
            "text/html": [
              "\n",
              "  <div id=\"df-000984a2-6b58-4110-942d-f76873b63385\">\n",
              "    <div class=\"colab-df-container\">\n",
              "      <div>\n",
              "<style scoped>\n",
              "    .dataframe tbody tr th:only-of-type {\n",
              "        vertical-align: middle;\n",
              "    }\n",
              "\n",
              "    .dataframe tbody tr th {\n",
              "        vertical-align: top;\n",
              "    }\n",
              "\n",
              "    .dataframe thead th {\n",
              "        text-align: right;\n",
              "    }\n",
              "</style>\n",
              "<table border=\"1\" class=\"dataframe\">\n",
              "  <thead>\n",
              "    <tr style=\"text-align: right;\">\n",
              "      <th></th>\n",
              "      <th>country</th>\n",
              "      <th>gdp_per_capita</th>\n",
              "      <th>life_satisfaction</th>\n",
              "    </tr>\n",
              "  </thead>\n",
              "  <tbody>\n",
              "    <tr>\n",
              "      <th>0</th>\n",
              "      <td>Brazil</td>\n",
              "      <td>8669.998</td>\n",
              "      <td>6.4</td>\n",
              "    </tr>\n",
              "    <tr>\n",
              "      <th>1</th>\n",
              "      <td>Mexico</td>\n",
              "      <td>9009.280</td>\n",
              "      <td>6.5</td>\n",
              "    </tr>\n",
              "    <tr>\n",
              "      <th>2</th>\n",
              "      <td>Russia</td>\n",
              "      <td>9054.914</td>\n",
              "      <td>5.8</td>\n",
              "    </tr>\n",
              "    <tr>\n",
              "      <th>3</th>\n",
              "      <td>Turkey</td>\n",
              "      <td>9437.372</td>\n",
              "      <td>5.5</td>\n",
              "    </tr>\n",
              "    <tr>\n",
              "      <th>4</th>\n",
              "      <td>Poland</td>\n",
              "      <td>12495.334</td>\n",
              "      <td>6.1</td>\n",
              "    </tr>\n",
              "    <tr>\n",
              "      <th>5</th>\n",
              "      <td>Latvia</td>\n",
              "      <td>13618.569</td>\n",
              "      <td>5.9</td>\n",
              "    </tr>\n",
              "    <tr>\n",
              "      <th>6</th>\n",
              "      <td>Lithuania</td>\n",
              "      <td>14210.280</td>\n",
              "      <td>5.9</td>\n",
              "    </tr>\n",
              "    <tr>\n",
              "      <th>7</th>\n",
              "      <td>Slovak Republic</td>\n",
              "      <td>15991.736</td>\n",
              "      <td>6.2</td>\n",
              "    </tr>\n",
              "    <tr>\n",
              "      <th>8</th>\n",
              "      <td>Czech Republic</td>\n",
              "      <td>17256.918</td>\n",
              "      <td>6.7</td>\n",
              "    </tr>\n",
              "    <tr>\n",
              "      <th>9</th>\n",
              "      <td>Estonia</td>\n",
              "      <td>17288.083</td>\n",
              "      <td>5.7</td>\n",
              "    </tr>\n",
              "    <tr>\n",
              "      <th>10</th>\n",
              "      <td>Greece</td>\n",
              "      <td>18064.288</td>\n",
              "      <td>5.4</td>\n",
              "    </tr>\n",
              "    <tr>\n",
              "      <th>11</th>\n",
              "      <td>Portugal</td>\n",
              "      <td>19121.592</td>\n",
              "      <td>5.4</td>\n",
              "    </tr>\n",
              "    <tr>\n",
              "      <th>12</th>\n",
              "      <td>Slovenia</td>\n",
              "      <td>20732.482</td>\n",
              "      <td>5.9</td>\n",
              "    </tr>\n",
              "    <tr>\n",
              "      <th>13</th>\n",
              "      <td>Spain</td>\n",
              "      <td>25864.721</td>\n",
              "      <td>6.3</td>\n",
              "    </tr>\n",
              "    <tr>\n",
              "      <th>14</th>\n",
              "      <td>Korea</td>\n",
              "      <td>27195.197</td>\n",
              "      <td>5.9</td>\n",
              "    </tr>\n",
              "    <tr>\n",
              "      <th>15</th>\n",
              "      <td>Italy</td>\n",
              "      <td>29866.581</td>\n",
              "      <td>6.0</td>\n",
              "    </tr>\n",
              "    <tr>\n",
              "      <th>16</th>\n",
              "      <td>Japan</td>\n",
              "      <td>32485.545</td>\n",
              "      <td>5.9</td>\n",
              "    </tr>\n",
              "    <tr>\n",
              "      <th>17</th>\n",
              "      <td>Israel</td>\n",
              "      <td>35343.336</td>\n",
              "      <td>7.2</td>\n",
              "    </tr>\n",
              "    <tr>\n",
              "      <th>18</th>\n",
              "      <td>New Zealand</td>\n",
              "      <td>37044.891</td>\n",
              "      <td>7.3</td>\n",
              "    </tr>\n",
              "    <tr>\n",
              "      <th>19</th>\n",
              "      <td>France</td>\n",
              "      <td>37675.006</td>\n",
              "      <td>6.5</td>\n",
              "    </tr>\n",
              "    <tr>\n",
              "      <th>20</th>\n",
              "      <td>Belgium</td>\n",
              "      <td>40106.632</td>\n",
              "      <td>6.9</td>\n",
              "    </tr>\n",
              "    <tr>\n",
              "      <th>21</th>\n",
              "      <td>Germany</td>\n",
              "      <td>40996.511</td>\n",
              "      <td>7.0</td>\n",
              "    </tr>\n",
              "    <tr>\n",
              "      <th>22</th>\n",
              "      <td>Finland</td>\n",
              "      <td>41973.988</td>\n",
              "      <td>7.6</td>\n",
              "    </tr>\n",
              "    <tr>\n",
              "      <th>23</th>\n",
              "      <td>Canada</td>\n",
              "      <td>43331.961</td>\n",
              "      <td>7.4</td>\n",
              "    </tr>\n",
              "    <tr>\n",
              "      <th>24</th>\n",
              "      <td>Netherlands</td>\n",
              "      <td>43603.115</td>\n",
              "      <td>7.4</td>\n",
              "    </tr>\n",
              "    <tr>\n",
              "      <th>25</th>\n",
              "      <td>Austria</td>\n",
              "      <td>43724.031</td>\n",
              "      <td>7.1</td>\n",
              "    </tr>\n",
              "    <tr>\n",
              "      <th>26</th>\n",
              "      <td>United Kingdom</td>\n",
              "      <td>43770.688</td>\n",
              "      <td>6.8</td>\n",
              "    </tr>\n",
              "    <tr>\n",
              "      <th>27</th>\n",
              "      <td>Sweden</td>\n",
              "      <td>49866.266</td>\n",
              "      <td>7.3</td>\n",
              "    </tr>\n",
              "    <tr>\n",
              "      <th>28</th>\n",
              "      <td>Iceland</td>\n",
              "      <td>50854.583</td>\n",
              "      <td>7.5</td>\n",
              "    </tr>\n",
              "  </tbody>\n",
              "</table>\n",
              "</div>\n",
              "      <button class=\"colab-df-convert\" onclick=\"convertToInteractive('df-000984a2-6b58-4110-942d-f76873b63385')\"\n",
              "              title=\"Convert this dataframe to an interactive table.\"\n",
              "              style=\"display:none;\">\n",
              "        \n",
              "  <svg xmlns=\"http://www.w3.org/2000/svg\" height=\"24px\"viewBox=\"0 0 24 24\"\n",
              "       width=\"24px\">\n",
              "    <path d=\"M0 0h24v24H0V0z\" fill=\"none\"/>\n",
              "    <path d=\"M18.56 5.44l.94 2.06.94-2.06 2.06-.94-2.06-.94-.94-2.06-.94 2.06-2.06.94zm-11 1L8.5 8.5l.94-2.06 2.06-.94-2.06-.94L8.5 2.5l-.94 2.06-2.06.94zm10 10l.94 2.06.94-2.06 2.06-.94-2.06-.94-.94-2.06-.94 2.06-2.06.94z\"/><path d=\"M17.41 7.96l-1.37-1.37c-.4-.4-.92-.59-1.43-.59-.52 0-1.04.2-1.43.59L10.3 9.45l-7.72 7.72c-.78.78-.78 2.05 0 2.83L4 21.41c.39.39.9.59 1.41.59.51 0 1.02-.2 1.41-.59l7.78-7.78 2.81-2.81c.8-.78.8-2.07 0-2.86zM5.41 20L4 18.59l7.72-7.72 1.47 1.35L5.41 20z\"/>\n",
              "  </svg>\n",
              "      </button>\n",
              "      \n",
              "  <style>\n",
              "    .colab-df-container {\n",
              "      display:flex;\n",
              "      flex-wrap:wrap;\n",
              "      gap: 12px;\n",
              "    }\n",
              "\n",
              "    .colab-df-convert {\n",
              "      background-color: #E8F0FE;\n",
              "      border: none;\n",
              "      border-radius: 50%;\n",
              "      cursor: pointer;\n",
              "      display: none;\n",
              "      fill: #1967D2;\n",
              "      height: 32px;\n",
              "      padding: 0 0 0 0;\n",
              "      width: 32px;\n",
              "    }\n",
              "\n",
              "    .colab-df-convert:hover {\n",
              "      background-color: #E2EBFA;\n",
              "      box-shadow: 0px 1px 2px rgba(60, 64, 67, 0.3), 0px 1px 3px 1px rgba(60, 64, 67, 0.15);\n",
              "      fill: #174EA6;\n",
              "    }\n",
              "\n",
              "    [theme=dark] .colab-df-convert {\n",
              "      background-color: #3B4455;\n",
              "      fill: #D2E3FC;\n",
              "    }\n",
              "\n",
              "    [theme=dark] .colab-df-convert:hover {\n",
              "      background-color: #434B5C;\n",
              "      box-shadow: 0px 1px 3px 1px rgba(0, 0, 0, 0.15);\n",
              "      filter: drop-shadow(0px 1px 2px rgba(0, 0, 0, 0.3));\n",
              "      fill: #FFFFFF;\n",
              "    }\n",
              "  </style>\n",
              "\n",
              "      <script>\n",
              "        const buttonEl =\n",
              "          document.querySelector('#df-000984a2-6b58-4110-942d-f76873b63385 button.colab-df-convert');\n",
              "        buttonEl.style.display =\n",
              "          google.colab.kernel.accessAllowed ? 'block' : 'none';\n",
              "\n",
              "        async function convertToInteractive(key) {\n",
              "          const element = document.querySelector('#df-000984a2-6b58-4110-942d-f76873b63385');\n",
              "          const dataTable =\n",
              "            await google.colab.kernel.invokeFunction('convertToInteractive',\n",
              "                                                     [key], {});\n",
              "          if (!dataTable) return;\n",
              "\n",
              "          const docLinkHtml = 'Like what you see? Visit the ' +\n",
              "            '<a target=\"_blank\" href=https://colab.research.google.com/notebooks/data_table.ipynb>data table notebook</a>'\n",
              "            + ' to learn more about interactive tables.';\n",
              "          element.innerHTML = '';\n",
              "          dataTable['output_type'] = 'display_data';\n",
              "          await google.colab.output.renderOutput(dataTable, element);\n",
              "          const docLink = document.createElement('div');\n",
              "          docLink.innerHTML = docLinkHtml;\n",
              "          element.appendChild(docLink);\n",
              "        }\n",
              "      </script>\n",
              "    </div>\n",
              "  </div>\n",
              "  "
            ]
          },
          "metadata": {},
          "execution_count": 4
        }
      ]
    },
    {
      "cell_type": "code",
      "source": [
        "# Make a scatter plot with the GDP on the x-axis and satisfaction on the y-axis\n",
        "plt.scatter(df['gdp_per_capita'], df['life_satisfaction'])\n",
        "\n",
        "# Assign labels to the X and Y axis\n",
        "plt.xlabel('GDP per capita')\n",
        "plt.ylabel('Life satisfaction')\n",
        "\n",
        "# Show the plot\n",
        "plt.show()"
      ],
      "metadata": {
        "colab": {
          "base_uri": "https://localhost:8080/",
          "height": 279
        },
        "id": "nzqelEXIdKKz",
        "outputId": "b10d76a6-357d-4c66-9e9a-d8c748a21636"
      },
      "execution_count": 5,
      "outputs": [
        {
          "output_type": "display_data",
          "data": {
            "text/plain": [
              "<Figure size 432x288 with 1 Axes>"
            ],
            "image/png": "[encoded data removed]"
          },
          "metadata": {
            "needs_background": "light"
          }
        }
      ]
    },
    {
      "cell_type": "code",
      "source": [
        "# For the homework assignment: this part of the code must be repeated once for\n",
        "# every instance in the dataframe. On each repitition, one of the instances is\n",
        "# omitted and reserved for evaluating the trained model.\n",
        "\n",
        "# Create a model instance. LinearRegression() can be substituted for different\n",
        "# model classes without changing the remainder of the code.\n",
        "\n",
        "model = LinearRegression()\n",
        "\n",
        "# Extract the 0th instance from the dataframe and set it aside. This is the\n",
        "# test set.\n",
        "\n",
        "#test = df.iloc[[0]]\n",
        "\n",
        "# Remove the 0th instance from the dataframe for the training set.\n",
        "\n",
        "#train = df.drop(0)\n",
        "\n",
        "# Specify X (input data) and y (predicted value) for the model\n",
        "\n",
        "#X = train[['gdp_per_capita']]\n",
        "#y = train['life_satisfaction']\n",
        "\n",
        "# Train the model\n",
        "\n",
        "#model.fit(X, y)\n",
        "\n",
        "# Try predicting the life satisfaction from the test set GDP\n",
        "\n",
        "#y_pred = model.predict(test[['gdp_per_capita']])\n",
        "\n",
        "# Evaluate the model's performance by finding the root mean squared error.\n",
        "# This compares the predicted life satisfaction value with the ground truth\n",
        "# life satisfaction value from the test set.\n",
        "\n",
        "#error_value=[]\n",
        "\n",
        "#error = mean_squared_error(test['life_satisfaction'], y_pred, squared=False)\n",
        "\n",
        "# Show the error value\n",
        "\n",
        "#error\n",
        "#error_value.append(error)"
      ],
      "metadata": {
        "id": "y4VZuvTJd_tZ"
      },
      "execution_count": 6,
      "outputs": []
    },
    {
      "cell_type": "code",
      "source": [
        "error_value=[]\n",
        "for i in range(29):\n",
        "  test=df.iloc[[i]]\n",
        "  train=df.drop(i)\n",
        "  X = train[['gdp_per_capita']]\n",
        "  y = train['life_satisfaction']\n",
        "  model.fit(X,y)\n",
        "  y_pred=model.predict(test[['gdp_per_capita']])\n",
        "  error=mean_squared_error(test['life_satisfaction'],y_pred,squared=False)\n",
        "  error\n",
        "  error_value.append(error)\n",
        "\n"
      ],
      "metadata": {
        "id": "1a67c3pkoNiY"
      },
      "execution_count": 7,
      "outputs": []
    },
    {
      "cell_type": "code",
      "source": [
        "error_value"
      ],
      "metadata": {
        "colab": {
          "base_uri": "https://localhost:8080/"
        },
        "id": "viR7GU3QpioY",
        "outputId": "c69f0db6-2dbd-4c6c-d7fa-487ae1461f66"
      },
      "execution_count": 8,
      "outputs": [
        {
          "output_type": "execute_result",
          "data": {
            "text/plain": [
              "[0.7582285828816993,\n",
              " 0.8527149054620304,\n",
              " 0.0727902540544827,\n",
              " 0.276179948551035,\n",
              " 0.2516157802472785,\n",
              " 0.012560981913357416,\n",
              " 0.03719380489314972,\n",
              " 0.20885737109735647,\n",
              " 0.6849746229547575,\n",
              " 0.37480495850574336,\n",
              " 0.721990508845761,\n",
              " 0.7623882913082749,\n",
              " 0.3010661418380529,\n",
              " 0.09027836252268973,\n",
              " 0.5580431744972616,\n",
              " 0.5622599331298002,\n",
              " 0.7738471638822464,\n",
              " 0.4657454869045621,\n",
              " 0.5040255678635983,\n",
              " 0.36463447118774717,\n",
              " 0.042667580906828206,\n",
              " 0.027232887468874978,\n",
              " 0.6324385815348474,\n",
              " 0.36326966560335894,\n",
              " 0.3524418622447838,\n",
              " 0.021254253194715744,\n",
              " 0.3071580724172476,\n",
              " 0.0215948082933215,\n",
              " 0.16436152445207508]"
            ]
          },
          "metadata": {},
          "execution_count": 8
        }
      ]
    },
    {
      "cell_type": "code",
      "source": [
        "np.mean(error_value)"
      ],
      "metadata": {
        "colab": {
          "base_uri": "https://localhost:8080/"
        },
        "id": "ufnHLzNqqcp_",
        "outputId": "77282b0b-1fcb-481d-b6ca-ff98e67f518d"
      },
      "execution_count": 9,
      "outputs": [
        {
          "output_type": "execute_result",
          "data": {
            "text/plain": [
              "0.36436619133299797"
            ]
          },
          "metadata": {},
          "execution_count": 9
        }
      ]
    },
    {
      "cell_type": "code",
      "source": [
        "#knn"
      ],
      "metadata": {
        "id": "VbbYPvpABl04"
      },
      "execution_count": 10,
      "outputs": []
    },
    {
      "cell_type": "code",
      "source": [
        "knn=KNeighborsRegressor(n_neighbors=3)\n"
      ],
      "metadata": {
        "id": "y2b0bxW2Blxi"
      },
      "execution_count": 11,
      "outputs": []
    },
    {
      "cell_type": "code",
      "source": [
        "error_values=[]"
      ],
      "metadata": {
        "id": "wHyaH0AimxOj"
      },
      "execution_count": 12,
      "outputs": []
    },
    {
      "cell_type": "code",
      "source": [
        "for i in range(29):\n",
        " test=df.iloc[[i]]\n",
        " train=df.drop(i)\n",
        " X=train[['gdp_per_capita']]\n",
        " y=train['life_satisfaction']\n",
        " knn.fit(X,y)\n",
        " y_pred=knn.predict(test[['gdp_per_capita']])\n",
        " error=mean_squared_error(test['life_satisfaction'],y_pred,squared=False)\n",
        " error\n",
        " error_values.append(error)"
      ],
      "metadata": {
        "id": "_GAv0IoBH1zl"
      },
      "execution_count": 13,
      "outputs": []
    },
    {
      "cell_type": "code",
      "source": [
        "error_values"
      ],
      "metadata": {
        "colab": {
          "base_uri": "https://localhost:8080/"
        },
        "id": "oMWyEWSYbEWn",
        "outputId": "b98fdd2a-33c5-4c43-9329-e2da950004b1"
      },
      "execution_count": 14,
      "outputs": [
        {
          "output_type": "execute_result",
          "data": {
            "text/plain": [
              "[0.4666666666666668,\n",
              " 0.6000000000000005,\n",
              " 0.33333333333333304,\n",
              " 0.7333333333333343,\n",
              " 0.33333333333333304,\n",
              " 0.16666666666666607,\n",
              " 0.16666666666666607,\n",
              " 0.09999999999999964,\n",
              " 0.9333333333333336,\n",
              " 0.40000000000000036,\n",
              " 0.5333333333333332,\n",
              " 0.2666666666666666,\n",
              " 0.40000000000000036,\n",
              " 0.36666666666666625,\n",
              " 0.16666666666666696,\n",
              " 0.0333333333333341,\n",
              " 0.9333333333333327,\n",
              " 0.6333333333333329,\n",
              " 0.4333333333333327,\n",
              " 0.6333333333333329,\n",
              " 0.13333333333333375,\n",
              " 0.2999999999999998,\n",
              " 0.33333333333333304,\n",
              " 0.2999999999999998,\n",
              " 0.3000000000000016,\n",
              " 0.10000000000000053,\n",
              " 0.5,\n",
              " 0.16666666666666696,\n",
              " 0.43333333333333357]"
            ]
          },
          "metadata": {},
          "execution_count": 14
        }
      ]
    },
    {
      "cell_type": "code",
      "source": [
        "np.mean(error_values)"
      ],
      "metadata": {
        "colab": {
          "base_uri": "https://localhost:8080/"
        },
        "id": "g5oGN6qzpK1W",
        "outputId": "db61da94-f901-4b87-fd30-93ebba05a1dc"
      },
      "execution_count": 15,
      "outputs": [
        {
          "output_type": "execute_result",
          "data": {
            "text/plain": [
              "0.38620689655172424"
            ]
          },
          "metadata": {},
          "execution_count": 15
        }
      ]
    },
    {
      "cell_type": "code",
      "source": [
        "#addding /inserting a new row on the existing dataframe\n",
        "df.loc[len(df.index)] = ['Faketopia', 60000, 0]\n",
        "df"
      ],
      "metadata": {
        "colab": {
          "base_uri": "https://localhost:8080/",
          "height": 990
        },
        "id": "PonvNs2mbN4I",
        "outputId": "be314e30-c3e9-470c-deb2-b5a653bdc63e"
      },
      "execution_count": 16,
      "outputs": [
        {
          "output_type": "execute_result",
          "data": {
            "text/plain": [
              "            country  gdp_per_capita  life_satisfaction\n",
              "0            Brazil        8669.998                6.4\n",
              "1            Mexico        9009.280                6.5\n",
              "2            Russia        9054.914                5.8\n",
              "3            Turkey        9437.372                5.5\n",
              "4            Poland       12495.334                6.1\n",
              "5            Latvia       13618.569                5.9\n",
              "6         Lithuania       14210.280                5.9\n",
              "7   Slovak Republic       15991.736                6.2\n",
              "8    Czech Republic       17256.918                6.7\n",
              "9           Estonia       17288.083                5.7\n",
              "10           Greece       18064.288                5.4\n",
              "11         Portugal       19121.592                5.4\n",
              "12         Slovenia       20732.482                5.9\n",
              "13            Spain       25864.721                6.3\n",
              "14            Korea       27195.197                5.9\n",
              "15            Italy       29866.581                6.0\n",
              "16            Japan       32485.545                5.9\n",
              "17           Israel       35343.336                7.2\n",
              "18      New Zealand       37044.891                7.3\n",
              "19           France       37675.006                6.5\n",
              "20          Belgium       40106.632                6.9\n",
              "21          Germany       40996.511                7.0\n",
              "22          Finland       41973.988                7.6\n",
              "23           Canada       43331.961                7.4\n",
              "24      Netherlands       43603.115                7.4\n",
              "25          Austria       43724.031                7.1\n",
              "26   United Kingdom       43770.688                6.8\n",
              "27           Sweden       49866.266                7.3\n",
              "28          Iceland       50854.583                7.5\n",
              "29        Faketopia       60000.000                0.0"
            ],
            "text/html": [
              "\n",
              "  <div id=\"df-d981e660-500f-49dd-b0c5-a4eb861b4502\">\n",
              "    <div class=\"colab-df-container\">\n",
              "      <div>\n",
              "<style scoped>\n",
              "    .dataframe tbody tr th:only-of-type {\n",
              "        vertical-align: middle;\n",
              "    }\n",
              "\n",
              "    .dataframe tbody tr th {\n",
              "        vertical-align: top;\n",
              "    }\n",
              "\n",
              "    .dataframe thead th {\n",
              "        text-align: right;\n",
              "    }\n",
              "</style>\n",
              "<table border=\"1\" class=\"dataframe\">\n",
              "  <thead>\n",
              "    <tr style=\"text-align: right;\">\n",
              "      <th></th>\n",
              "      <th>country</th>\n",
              "      <th>gdp_per_capita</th>\n",
              "      <th>life_satisfaction</th>\n",
              "    </tr>\n",
              "  </thead>\n",
              "  <tbody>\n",
              "    <tr>\n",
              "      <th>0</th>\n",
              "      <td>Brazil</td>\n",
              "      <td>8669.998</td>\n",
              "      <td>6.4</td>\n",
              "    </tr>\n",
              "    <tr>\n",
              "      <th>1</th>\n",
              "      <td>Mexico</td>\n",
              "      <td>9009.280</td>\n",
              "      <td>6.5</td>\n",
              "    </tr>\n",
              "    <tr>\n",
              "      <th>2</th>\n",
              "      <td>Russia</td>\n",
              "      <td>9054.914</td>\n",
              "      <td>5.8</td>\n",
              "    </tr>\n",
              "    <tr>\n",
              "      <th>3</th>\n",
              "      <td>Turkey</td>\n",
              "      <td>9437.372</td>\n",
              "      <td>5.5</td>\n",
              "    </tr>\n",
              "    <tr>\n",
              "      <th>4</th>\n",
              "      <td>Poland</td>\n",
              "      <td>12495.334</td>\n",
              "      <td>6.1</td>\n",
              "    </tr>\n",
              "    <tr>\n",
              "      <th>5</th>\n",
              "      <td>Latvia</td>\n",
              "      <td>13618.569</td>\n",
              "      <td>5.9</td>\n",
              "    </tr>\n",
              "    <tr>\n",
              "      <th>6</th>\n",
              "      <td>Lithuania</td>\n",
              "      <td>14210.280</td>\n",
              "      <td>5.9</td>\n",
              "    </tr>\n",
              "    <tr>\n",
              "      <th>7</th>\n",
              "      <td>Slovak Republic</td>\n",
              "      <td>15991.736</td>\n",
              "      <td>6.2</td>\n",
              "    </tr>\n",
              "    <tr>\n",
              "      <th>8</th>\n",
              "      <td>Czech Republic</td>\n",
              "      <td>17256.918</td>\n",
              "      <td>6.7</td>\n",
              "    </tr>\n",
              "    <tr>\n",
              "      <th>9</th>\n",
              "      <td>Estonia</td>\n",
              "      <td>17288.083</td>\n",
              "      <td>5.7</td>\n",
              "    </tr>\n",
              "    <tr>\n",
              "      <th>10</th>\n",
              "      <td>Greece</td>\n",
              "      <td>18064.288</td>\n",
              "      <td>5.4</td>\n",
              "    </tr>\n",
              "    <tr>\n",
              "      <th>11</th>\n",
              "      <td>Portugal</td>\n",
              "      <td>19121.592</td>\n",
              "      <td>5.4</td>\n",
              "    </tr>\n",
              "    <tr>\n",
              "      <th>12</th>\n",
              "      <td>Slovenia</td>\n",
              "      <td>20732.482</td>\n",
              "      <td>5.9</td>\n",
              "    </tr>\n",
              "    <tr>\n",
              "      <th>13</th>\n",
              "      <td>Spain</td>\n",
              "      <td>25864.721</td>\n",
              "      <td>6.3</td>\n",
              "    </tr>\n",
              "    <tr>\n",
              "      <th>14</th>\n",
              "      <td>Korea</td>\n",
              "      <td>27195.197</td>\n",
              "      <td>5.9</td>\n",
              "    </tr>\n",
              "    <tr>\n",
              "      <th>15</th>\n",
              "      <td>Italy</td>\n",
              "      <td>29866.581</td>\n",
              "      <td>6.0</td>\n",
              "    </tr>\n",
              "    <tr>\n",
              "      <th>16</th>\n",
              "      <td>Japan</td>\n",
              "      <td>32485.545</td>\n",
              "      <td>5.9</td>\n",
              "    </tr>\n",
              "    <tr>\n",
              "      <th>17</th>\n",
              "      <td>Israel</td>\n",
              "      <td>35343.336</td>\n",
              "      <td>7.2</td>\n",
              "    </tr>\n",
              "    <tr>\n",
              "      <th>18</th>\n",
              "      <td>New Zealand</td>\n",
              "      <td>37044.891</td>\n",
              "      <td>7.3</td>\n",
              "    </tr>\n",
              "    <tr>\n",
              "      <th>19</th>\n",
              "      <td>France</td>\n",
              "      <td>37675.006</td>\n",
              "      <td>6.5</td>\n",
              "    </tr>\n",
              "    <tr>\n",
              "      <th>20</th>\n",
              "      <td>Belgium</td>\n",
              "      <td>40106.632</td>\n",
              "      <td>6.9</td>\n",
              "    </tr>\n",
              "    <tr>\n",
              "      <th>21</th>\n",
              "      <td>Germany</td>\n",
              "      <td>40996.511</td>\n",
              "      <td>7.0</td>\n",
              "    </tr>\n",
              "    <tr>\n",
              "      <th>22</th>\n",
              "      <td>Finland</td>\n",
              "      <td>41973.988</td>\n",
              "      <td>7.6</td>\n",
              "    </tr>\n",
              "    <tr>\n",
              "      <th>23</th>\n",
              "      <td>Canada</td>\n",
              "      <td>43331.961</td>\n",
              "      <td>7.4</td>\n",
              "    </tr>\n",
              "    <tr>\n",
              "      <th>24</th>\n",
              "      <td>Netherlands</td>\n",
              "      <td>43603.115</td>\n",
              "      <td>7.4</td>\n",
              "    </tr>\n",
              "    <tr>\n",
              "      <th>25</th>\n",
              "      <td>Austria</td>\n",
              "      <td>43724.031</td>\n",
              "      <td>7.1</td>\n",
              "    </tr>\n",
              "    <tr>\n",
              "      <th>26</th>\n",
              "      <td>United Kingdom</td>\n",
              "      <td>43770.688</td>\n",
              "      <td>6.8</td>\n",
              "    </tr>\n",
              "    <tr>\n",
              "      <th>27</th>\n",
              "      <td>Sweden</td>\n",
              "      <td>49866.266</td>\n",
              "      <td>7.3</td>\n",
              "    </tr>\n",
              "    <tr>\n",
              "      <th>28</th>\n",
              "      <td>Iceland</td>\n",
              "      <td>50854.583</td>\n",
              "      <td>7.5</td>\n",
              "    </tr>\n",
              "    <tr>\n",
              "      <th>29</th>\n",
              "      <td>Faketopia</td>\n",
              "      <td>60000.000</td>\n",
              "      <td>0.0</td>\n",
              "    </tr>\n",
              "  </tbody>\n",
              "</table>\n",
              "</div>\n",
              "      <button class=\"colab-df-convert\" onclick=\"convertToInteractive('df-d981e660-500f-49dd-b0c5-a4eb861b4502')\"\n",
              "              title=\"Convert this dataframe to an interactive table.\"\n",
              "              style=\"display:none;\">\n",
              "        \n",
              "  <svg xmlns=\"http://www.w3.org/2000/svg\" height=\"24px\"viewBox=\"0 0 24 24\"\n",
              "       width=\"24px\">\n",
              "    <path d=\"M0 0h24v24H0V0z\" fill=\"none\"/>\n",
              "    <path d=\"M18.56 5.44l.94 2.06.94-2.06 2.06-.94-2.06-.94-.94-2.06-.94 2.06-2.06.94zm-11 1L8.5 8.5l.94-2.06 2.06-.94-2.06-.94L8.5 2.5l-.94 2.06-2.06.94zm10 10l.94 2.06.94-2.06 2.06-.94-2.06-.94-.94-2.06-.94 2.06-2.06.94z\"/><path d=\"M17.41 7.96l-1.37-1.37c-.4-.4-.92-.59-1.43-.59-.52 0-1.04.2-1.43.59L10.3 9.45l-7.72 7.72c-.78.78-.78 2.05 0 2.83L4 21.41c.39.39.9.59 1.41.59.51 0 1.02-.2 1.41-.59l7.78-7.78 2.81-2.81c.8-.78.8-2.07 0-2.86zM5.41 20L4 18.59l7.72-7.72 1.47 1.35L5.41 20z\"/>\n",
              "  </svg>\n",
              "      </button>\n",
              "      \n",
              "  <style>\n",
              "    .colab-df-container {\n",
              "      display:flex;\n",
              "      flex-wrap:wrap;\n",
              "      gap: 12px;\n",
              "    }\n",
              "\n",
              "    .colab-df-convert {\n",
              "      background-color: #E8F0FE;\n",
              "      border: none;\n",
              "      border-radius: 50%;\n",
              "      cursor: pointer;\n",
              "      display: none;\n",
              "      fill: #1967D2;\n",
              "      height: 32px;\n",
              "      padding: 0 0 0 0;\n",
              "      width: 32px;\n",
              "    }\n",
              "\n",
              "    .colab-df-convert:hover {\n",
              "      background-color: #E2EBFA;\n",
              "      box-shadow: 0px 1px 2px rgba(60, 64, 67, 0.3), 0px 1px 3px 1px rgba(60, 64, 67, 0.15);\n",
              "      fill: #174EA6;\n",
              "    }\n",
              "\n",
              "    [theme=dark] .colab-df-convert {\n",
              "      background-color: #3B4455;\n",
              "      fill: #D2E3FC;\n",
              "    }\n",
              "\n",
              "    [theme=dark] .colab-df-convert:hover {\n",
              "      background-color: #434B5C;\n",
              "      box-shadow: 0px 1px 3px 1px rgba(0, 0, 0, 0.15);\n",
              "      filter: drop-shadow(0px 1px 2px rgba(0, 0, 0, 0.3));\n",
              "      fill: #FFFFFF;\n",
              "    }\n",
              "  </style>\n",
              "\n",
              "      <script>\n",
              "        const buttonEl =\n",
              "          document.querySelector('#df-d981e660-500f-49dd-b0c5-a4eb861b4502 button.colab-df-convert');\n",
              "        buttonEl.style.display =\n",
              "          google.colab.kernel.accessAllowed ? 'block' : 'none';\n",
              "\n",
              "        async function convertToInteractive(key) {\n",
              "          const element = document.querySelector('#df-d981e660-500f-49dd-b0c5-a4eb861b4502');\n",
              "          const dataTable =\n",
              "            await google.colab.kernel.invokeFunction('convertToInteractive',\n",
              "                                                     [key], {});\n",
              "          if (!dataTable) return;\n",
              "\n",
              "          const docLinkHtml = 'Like what you see? Visit the ' +\n",
              "            '<a target=\"_blank\" href=https://colab.research.google.com/notebooks/data_table.ipynb>data table notebook</a>'\n",
              "            + ' to learn more about interactive tables.';\n",
              "          element.innerHTML = '';\n",
              "          dataTable['output_type'] = 'display_data';\n",
              "          await google.colab.output.renderOutput(dataTable, element);\n",
              "          const docLink = document.createElement('div');\n",
              "          docLink.innerHTML = docLinkHtml;\n",
              "          element.appendChild(docLink);\n",
              "        }\n",
              "      </script>\n",
              "    </div>\n",
              "  </div>\n",
              "  "
            ]
          },
          "metadata": {},
          "execution_count": 16
        }
      ]
    },
    {
      "cell_type": "code",
      "source": [
        "model = LinearRegression()"
      ],
      "metadata": {
        "id": "Gd_qjIm_bNzB"
      },
      "execution_count": 17,
      "outputs": []
    },
    {
      "cell_type": "code",
      "source": [
        "error_value=[]\n",
        "for i in range(30):\n",
        "  test=df.iloc[[i]]\n",
        "  train=df.drop(i)\n",
        "  X = train[['gdp_per_capita']]\n",
        "  y = train['life_satisfaction']\n",
        "  model.fit(X,y)\n",
        "  y_pred=model.predict(test[['gdp_per_capita']])\n",
        "  error=mean_squared_error(test['life_satisfaction'],y_pred,squared=False)\n",
        "  error\n",
        "  error_value.append(error)\n"
      ],
      "metadata": {
        "id": "FNCuMs0LbNun"
      },
      "execution_count": 18,
      "outputs": []
    },
    {
      "cell_type": "code",
      "source": [
        "error_value"
      ],
      "metadata": {
        "colab": {
          "base_uri": "https://localhost:8080/"
        },
        "id": "Wb6-xbclbNqk",
        "outputId": "58a4e41c-5a38-41ed-ea65-974efe94e955"
      },
      "execution_count": 19,
      "outputs": [
        {
          "output_type": "execute_result",
          "data": {
            "text/plain": [
              "[0.20061286273180823,\n",
              " 0.31010071499761604,\n",
              " 0.46356700314145804,\n",
              " 0.793652217594345,\n",
              " 0.1349861347274084,\n",
              " 0.35107494129077477,\n",
              " 0.3510030620974689,\n",
              " 0.03205290928951854,\n",
              " 0.4949656577249595,\n",
              " 0.5628243819525061,\n",
              " 0.8788507893368553,\n",
              " 0.8774005353960401,\n",
              " 0.3528853785211652,\n",
              " 0.056707828518772985,\n",
              " 0.35945993129387865,\n",
              " 0.2600996026992153,\n",
              " 0.36840237391238073,\n",
              " 0.9790749804250067,\n",
              " 1.0848287356389221,\n",
              " 0.24784136083722785,\n",
              " 0.6681327157202865,\n",
              " 0.774886934500242,\n",
              " 1.414555111732942,\n",
              " 1.2070764671231027,\n",
              " 1.2082169584584541,\n",
              " 0.8870869873713723,\n",
              " 0.5654916333747062,\n",
              " 1.13289478020896,\n",
              " 1.3637908260275564,\n",
              " 7.712355216108857]"
            ]
          },
          "metadata": {},
          "execution_count": 19
        }
      ]
    },
    {
      "cell_type": "code",
      "source": [
        "np.mean(error_value)"
      ],
      "metadata": {
        "colab": {
          "base_uri": "https://localhost:8080/"
        },
        "id": "v43-IIrAbNiz",
        "outputId": "bc6e84bd-e583-4de8-9308-887347f8dfa2"
      },
      "execution_count": 20,
      "outputs": [
        {
          "output_type": "execute_result",
          "data": {
            "text/plain": [
              "0.8698293010917937"
            ]
          },
          "metadata": {},
          "execution_count": 20
        }
      ]
    },
    {
      "cell_type": "code",
      "source": [
        "#knn\n",
        "knn=KNeighborsRegressor(n_neighbors=3)"
      ],
      "metadata": {
        "id": "14Z0si1_bNeG"
      },
      "execution_count": 21,
      "outputs": []
    },
    {
      "cell_type": "code",
      "source": [
        "error_values=[]\n",
        "for i in range(29):\n",
        " test=df.iloc[[i]]\n",
        " train=df.drop(i)\n",
        " X=train[['gdp_per_capita']]\n",
        " y=train['life_satisfaction']\n",
        " knn.fit(X,y)\n",
        " y_pred=knn.predict(test[['gdp_per_capita']])\n",
        " error=mean_squared_error(test['life_satisfaction'],y_pred,squared=False)\n",
        " error\n",
        " error_values.append(error)\n"
      ],
      "metadata": {
        "id": "5aAKxq10bNRb"
      },
      "execution_count": 22,
      "outputs": []
    },
    {
      "cell_type": "code",
      "source": [
        "error_values"
      ],
      "metadata": {
        "colab": {
          "base_uri": "https://localhost:8080/"
        },
        "id": "FWTHIdY4cCC9",
        "outputId": "72d8a05a-c4a7-4e30-efa1-b44a709ca94d"
      },
      "execution_count": 23,
      "outputs": [
        {
          "output_type": "execute_result",
          "data": {
            "text/plain": [
              "[0.4666666666666668,\n",
              " 0.6000000000000005,\n",
              " 0.33333333333333304,\n",
              " 0.7333333333333343,\n",
              " 0.33333333333333304,\n",
              " 0.16666666666666607,\n",
              " 0.16666666666666607,\n",
              " 0.09999999999999964,\n",
              " 0.9333333333333336,\n",
              " 0.40000000000000036,\n",
              " 0.5333333333333332,\n",
              " 0.2666666666666666,\n",
              " 0.40000000000000036,\n",
              " 0.36666666666666625,\n",
              " 0.16666666666666696,\n",
              " 0.0333333333333341,\n",
              " 0.9333333333333327,\n",
              " 0.6333333333333329,\n",
              " 0.4333333333333327,\n",
              " 0.6333333333333329,\n",
              " 0.13333333333333375,\n",
              " 0.2999999999999998,\n",
              " 0.33333333333333304,\n",
              " 0.2999999999999998,\n",
              " 0.3000000000000016,\n",
              " 0.10000000000000053,\n",
              " 0.5,\n",
              " 0.16666666666666696,\n",
              " 0.43333333333333357]"
            ]
          },
          "metadata": {},
          "execution_count": 23
        }
      ]
    },
    {
      "cell_type": "code",
      "source": [
        "np.mean(error_values)"
      ],
      "metadata": {
        "colab": {
          "base_uri": "https://localhost:8080/"
        },
        "id": "CajjjXHfcFlc",
        "outputId": "3681c1c8-fdfd-4843-cd42-9a599d56ace0"
      },
      "execution_count": 24,
      "outputs": [
        {
          "output_type": "execute_result",
          "data": {
            "text/plain": [
              "0.38620689655172424"
            ]
          },
          "metadata": {},
          "execution_count": 24
        }
      ]
    },
    {
      "cell_type": "code",
      "source": [
        "#without dropping test set from train set"
      ],
      "metadata": {
        "id": "q6nms2QBdRso"
      },
      "execution_count": 24,
      "outputs": []
    },
    {
      "cell_type": "code",
      "source": [
        "model = LinearRegression()"
      ],
      "metadata": {
        "id": "5ddFGLLudq1o"
      },
      "execution_count": 25,
      "outputs": []
    },
    {
      "cell_type": "code",
      "source": [
        "error_value=[]\n",
        "for i in range(29):\n",
        "  test=df.iloc[[i]]\n",
        "  train=df\n",
        "  X = train[['gdp_per_capita']]\n",
        "  y = train['life_satisfaction']\n",
        "  model.fit(X,y)\n",
        "  y_pred=model.predict(test[['gdp_per_capita']])\n",
        "  error=mean_squared_error(test['life_satisfaction'],y_pred,squared=False)\n",
        "  error\n",
        "  error_value.append(error)\n"
      ],
      "metadata": {
        "id": "rNMW08o-dRnv"
      },
      "execution_count": 26,
      "outputs": []
    },
    {
      "cell_type": "code",
      "source": [
        "error_value"
      ],
      "metadata": {
        "colab": {
          "base_uri": "https://localhost:8080/"
        },
        "id": "j1hHnTrrdRjG",
        "outputId": "23ca4e9e-0175-420b-d6dc-726c18b67413"
      },
      "execution_count": 27,
      "outputs": [
        {
          "output_type": "execute_result",
          "data": {
            "text/plain": [
              "[0.18106832352752633,\n",
              " 0.28054868564803304,\n",
              " 0.4195212065212912,\n",
              " 0.7201069719439044,\n",
              " 0.12479048857387376,\n",
              " 0.3265108140069106,\n",
              " 0.32741706735755294,\n",
              " 0.03014551159641421,\n",
              " 0.4679167596362115,\n",
              " 0.5321309720869998,\n",
              " 0.833319792950622,\n",
              " 0.8349391397139021,\n",
              " 0.3374063483005525,\n",
              " 0.054733211737970855,\n",
              " 0.3473045200820364,\n",
              " 0.25139596117549434,\n",
              " 0.3554071167906683,\n",
              " 0.9402159446883571,\n",
              " 1.0376098753064262,\n",
              " 0.236644803117402,\n",
              " 0.6329205708316961,\n",
              " 0.7315576490245705,\n",
              " 1.330060563781224,\n",
              " 1.1279807180772723,\n",
              " 1.12756542375109,\n",
              " 0.8273802310976714,\n",
              " 0.5273087721209402,\n",
              " 1.0179729004089069,\n",
              " 1.2164592128270533]"
            ]
          },
          "metadata": {},
          "execution_count": 27
        }
      ]
    },
    {
      "cell_type": "code",
      "source": [
        "np.mean(error_value)"
      ],
      "metadata": {
        "colab": {
          "base_uri": "https://localhost:8080/"
        },
        "id": "r7AIfkOtdReW",
        "outputId": "8fa349bf-f24b-41ec-8ea5-3447c6da76ad"
      },
      "execution_count": 28,
      "outputs": [
        {
          "output_type": "execute_result",
          "data": {
            "text/plain": [
              "0.5923565364373301"
            ]
          },
          "metadata": {},
          "execution_count": 28
        }
      ]
    },
    {
      "cell_type": "code",
      "source": [
        "#knn\n",
        "knn=KNeighborsRegressor(n_neighbors=3)"
      ],
      "metadata": {
        "id": "uof98aRmeqN4"
      },
      "execution_count": 29,
      "outputs": []
    },
    {
      "cell_type": "code",
      "source": [
        "error_values=[]\n",
        "for i in range(29):\n",
        "  test=df.iloc[[i]]\n",
        "  train=df\n",
        "  X = train[['gdp_per_capita']]\n",
        "  y = train['life_satisfaction']\n",
        "  knn.fit(X,y)\n",
        "  y_pred=knn.predict(test[['gdp_per_capita']])\n",
        "  error=mean_squared_error(test['life_satisfaction'],y_pred,squared=False)\n",
        "  error\n",
        "  error_values.append(error)\n"
      ],
      "metadata": {
        "id": "2BHeLdB3eX8M"
      },
      "execution_count": 30,
      "outputs": []
    },
    {
      "cell_type": "code",
      "source": [
        "error_values"
      ],
      "metadata": {
        "colab": {
          "base_uri": "https://localhost:8080/"
        },
        "id": "IhFsAFF4eVc_",
        "outputId": "e8bcfa17-8cd6-40c0-bdb4-3f26c8954bb3"
      },
      "execution_count": 31,
      "outputs": [
        {
          "output_type": "execute_result",
          "data": {
            "text/plain": [
              "[0.16666666666666696,\n",
              " 0.2666666666666657,\n",
              " 0.13333333333333375,\n",
              " 0.43333333333333357,\n",
              " 0.13333333333333375,\n",
              " 0.06666666666666554,\n",
              " 0.06666666666666554,\n",
              " 0.0,\n",
              " 0.7666666666666666,\n",
              " 0.2333333333333334,\n",
              " 0.5333333333333332,\n",
              " 0.16666666666666696,\n",
              " 0.33333333333333304,\n",
              " 0.2333333333333334,\n",
              " 0.16666666666666607,\n",
              " 0.06666666666666643,\n",
              " 0.4666666666666668,\n",
              " 0.20000000000000018,\n",
              " 0.2999999999999998,\n",
              " 0.5,\n",
              " 0.2666666666666666,\n",
              " 0.16666666666666696,\n",
              " 0.2666666666666666,\n",
              " 0.10000000000000053,\n",
              " 0.2999999999999998,\n",
              " 8.881784197001252e-16,\n",
              " 0.29999999999999893,\n",
              " 0.09999999999999964,\n",
              " 0.2999999999999998]"
            ]
          },
          "metadata": {},
          "execution_count": 31
        }
      ]
    },
    {
      "cell_type": "code",
      "source": [
        "np.mean(error_values)"
      ],
      "metadata": {
        "colab": {
          "base_uri": "https://localhost:8080/"
        },
        "id": "SCs_jb_wdRIb",
        "outputId": "5009b103-195e-4ceb-dc97-5691031ee547"
      },
      "execution_count": 32,
      "outputs": [
        {
          "output_type": "execute_result",
          "data": {
            "text/plain": [
              "0.2425287356321838"
            ]
          },
          "metadata": {},
          "execution_count": 32
        }
      ]
    },
    {
      "cell_type": "code",
      "source": [],
      "metadata": {
        "id": "Tmz9is_ZdQ_9"
      },
      "execution_count": 32,
      "outputs": []
    },
    {
      "cell_type": "code",
      "source": [],
      "metadata": {
        "id": "evMJwqt5dQ7b"
      },
      "execution_count": 32,
      "outputs": []
    },
    {
      "cell_type": "code",
      "source": [],
      "metadata": {
        "id": "3cuuZiBMdQ2g"
      },
      "execution_count": 32,
      "outputs": []
    }
  ]
}