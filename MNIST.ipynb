{
  "cells": [
    {
      "cell_type": "markdown",
      "metadata": {
        "id": "view-in-github",
        "colab_type": "text"
      },
      "source": [
        "<a href=\"https://colab.research.google.com/github/tajrink/cisc-3440/blob/main/MNIST.ipynb\" target=\"_parent\"><img src=\"https://colab.research.google.com/assets/colab-badge.svg\" alt=\"Open In Colab\"/></a>"
      ]
    },
    {
      "cell_type": "markdown",
      "source": [
        "This notebook demonstrates classification with the MNIST dataset - a dataset for handwritten number recognition. Our goal is to look at a picture of a handwritten digit between 0 and 9, and try to recognize what digit it is."
      ],
      "metadata": {
        "id": "ZaRKrMhtHxW6"
      }
    },
    {
      "cell_type": "code",
      "source": [
        "from sklearn.datasets import fetch_openml\n",
        "from sklearn.neighbors import KNeighborsClassifier\n",
        "from sklearn.linear_model import SGDClassifier\n",
        "from sklearn.linear_model import LogisticRegression\n",
        "import matplotlib as mlp\n",
        "import matplotlib.pyplot as plt\n",
        "from sklearn.model_selection import cross_val_score"
      ],
      "metadata": {
        "id": "iY4Ww4r2T1j7"
      },
      "execution_count": null,
      "outputs": []
    },
    {
      "cell_type": "markdown",
      "source": [
        "MNIST with binary classification"
      ],
      "metadata": {
        "id": "VbiysmOCHHMb"
      }
    },
    {
      "cell_type": "code",
      "execution_count": null,
      "metadata": {
        "id": "gtuxwiyv--YV"
      },
      "outputs": [],
      "source": [
        "# Fetch the MNIST data using sklearn\n",
        "mnist = fetch_openml('mnist_784', version=1)"
      ]
    },
    {
      "cell_type": "code",
      "source": [
        "# For this binary classification task, we will try to classify the MNIST digits\n",
        "# as 5/not-5. We can use the structure of the sklearn MNIST data to get both our\n",
        "# data and labels:\n",
        "X = mnist.data\n",
        "y = mnist.target"
      ],
      "metadata": {
        "id": "iW3Z2_yAmC4l"
      },
      "execution_count": null,
      "outputs": []
    },
    {
      "cell_type": "code",
      "source": [
        "# As an example, plot a row from the dataset. You can see different examples\n",
        "# by rerunning this cell with different values of I.\n",
        "I = 25\n",
        "\n",
        "print(\"Label: \", y[I])\n",
        "plt.imshow(X.iloc[I].values.reshape(28,28))\n",
        "plt.show()"
      ],
      "metadata": {
        "colab": {
          "base_uri": "https://localhost:8080/",
          "height": 282
        },
        "id": "qcSVCAdBH-5a",
        "outputId": "754bd1b9-fe19-4850-822c-11c338eb3fff"
      },
      "execution_count": null,
      "outputs": [
        {
          "output_type": "stream",
          "name": "stdout",
          "text": [
            "Label:  2\n"
          ]
        },
        {
          "output_type": "display_data",
          "data": {
            "text/plain": [
              "<Figure size 432x288 with 1 Axes>"
            ],
            "image/png": "[encoded data removed]"
          },
          "metadata": {
            "needs_background": "light"
          }
        }
      ]
    },
    {
      "cell_type": "code",
      "source": [
        "# Currently, targets are strings containing the number associated with each row\n",
        "# of target data. We need to change this to a binary 5/not-5 value.\n",
        "y"
      ],
      "metadata": {
        "colab": {
          "base_uri": "https://localhost:8080/"
        },
        "id": "TyESjlcMC8hS",
        "outputId": "6c9b2eda-91a1-4fc2-bf6a-ee5bca3887ea"
      },
      "execution_count": null,
      "outputs": [
        {
          "output_type": "execute_result",
          "data": {
            "text/plain": [
              "0        5\n",
              "1        0\n",
              "2        4\n",
              "3        1\n",
              "4        9\n",
              "        ..\n",
              "69995    2\n",
              "69996    3\n",
              "69997    4\n",
              "69998    5\n",
              "69999    6\n",
              "Name: class, Length: 70000, dtype: category\n",
              "Categories (10, object): ['0', '1', '2', '3', ..., '6', '7', '8', '9']"
            ]
          },
          "metadata": {},
          "execution_count": 5
        }
      ]
    },
    {
      "cell_type": "code",
      "source": [
        "# We can do this with a simple Boolean expression:\n",
        "y_5 = y == '5'\n",
        "y_5"
      ],
      "metadata": {
        "colab": {
          "base_uri": "https://localhost:8080/"
        },
        "id": "Vj66aP9PDDlS",
        "outputId": "462920ff-c686-4f6d-d3b1-35d2b858dd69"
      },
      "execution_count": null,
      "outputs": [
        {
          "output_type": "execute_result",
          "data": {
            "text/plain": [
              "0         True\n",
              "1        False\n",
              "2        False\n",
              "3        False\n",
              "4        False\n",
              "         ...  \n",
              "69995    False\n",
              "69996    False\n",
              "69997    False\n",
              "69998     True\n",
              "69999    False\n",
              "Name: class, Length: 70000, dtype: bool"
            ]
          },
          "metadata": {},
          "execution_count": 6
        }
      ]
    },
    {
      "cell_type": "code",
      "source": [
        "# Retrieve the train/test split from the dataset.\n",
        "# The MNIST digits are already divided into a train/test split:\n",
        "# the first 60,000 rows are the training set, and the rest are the test set.\n",
        "X_train, y_train_5, X_test, y_test_5 = X[:60000], y_5[:60000], X[60000:], y_5[60000:]\n",
        "\n",
        "len(X_train), len(X_test)"
      ],
      "metadata": {
        "id": "Ou-qgFZqmq0u",
        "colab": {
          "base_uri": "https://localhost:8080/"
        },
        "outputId": "a858a6e2-8991-49f5-e86e-a37cdcc967f1"
      },
      "execution_count": null,
      "outputs": [
        {
          "output_type": "execute_result",
          "data": {
            "text/plain": [
              "(60000, 10000)"
            ]
          },
          "metadata": {},
          "execution_count": 7
        }
      ]
    },
    {
      "cell_type": "code",
      "source": [
        "# Let's do a 3-fold cross validation to evaluate two different models.\n",
        "\n",
        "model_sgd = SGDClassifier()\n",
        "sgd_scores = cross_val_score(model_sgd, X_train, y_train_5, cv=3, scoring=\"f1\")"
      ],
      "metadata": {
        "id": "sGvIPnN3nKjk"
      },
      "execution_count": null,
      "outputs": []
    },
    {
      "cell_type": "code",
      "source": [
        "sgd_scores"
      ],
      "metadata": {
        "colab": {
          "base_uri": "https://localhost:8080/"
        },
        "id": "KS6tyTZzEKcz",
        "outputId": "46b46c9d-4eed-4d2c-c899-357af354386b"
      },
      "execution_count": null,
      "outputs": [
        {
          "output_type": "execute_result",
          "data": {
            "text/plain": [
              "array([0.7604733 , 0.72242833, 0.78645516])"
            ]
          },
          "metadata": {},
          "execution_count": 9
        }
      ]
    },
    {
      "cell_type": "code",
      "source": [
        "model_knn = KNeighborsClassifier()\n",
        "knn_scores = cross_val_score(model_knn, X_train, y_train_5, cv=3, scoring=\"f1\")"
      ],
      "metadata": {
        "id": "s68xYt9Gnq_D"
      },
      "execution_count": null,
      "outputs": []
    },
    {
      "cell_type": "code",
      "source": [
        "knn_scores"
      ],
      "metadata": {
        "colab": {
          "base_uri": "https://localhost:8080/"
        },
        "id": "Elv8Fk2YoDhF",
        "outputId": "b769ce36-5164-4a9a-92e2-4a891b3b10c1"
      },
      "execution_count": null,
      "outputs": [
        {
          "output_type": "execute_result",
          "data": {
            "text/plain": [
              "array([0.9671675 , 0.9610245 , 0.96143097])"
            ]
          },
          "metadata": {},
          "execution_count": 11
        }
      ]
    },
    {
      "cell_type": "code",
      "source": [
        "from sklearn import metrics\n",
        "# K-nearest-neighbors is performing better, so we select it and evaluate on the\n",
        "# test set for a final performance measue.\n",
        "model_knn.fit(X_train, y_train_5)\n",
        "y_pred = model_knn.predict(X_test)\n",
        "metrics.f1_score(y_test_5, y_pred)"
      ],
      "metadata": {
        "colab": {
          "base_uri": "https://localhost:8080/"
        },
        "id": "w5zHkudqGrE7",
        "outputId": "e5859cc1-bb76-4ea2-cb03-eeb3ceb126cf"
      },
      "execution_count": null,
      "outputs": [
        {
          "output_type": "execute_result",
          "data": {
            "text/plain": [
              "0.9655172413793103"
            ]
          },
          "metadata": {},
          "execution_count": 12
        }
      ]
    },
    {
      "cell_type": "markdown",
      "source": [
        "MNIST with multiclass classification"
      ],
      "metadata": {
        "id": "kL7Kz6ZpHKo0"
      }
    },
    {
      "cell_type": "code",
      "source": [
        "# Try K-NN. This time, we'll evaluate on accuracy, since that is\n",
        "# what the homework wants.\n",
        "\n",
        "# We are doing multiclass classification. Get the original numeric data:\n",
        "y_train_multiclass, y_test_multiclass =y[:60000], y[60000:]\n",
        "y_train_multiclass"
      ],
      "metadata": {
        "colab": {
          "base_uri": "https://localhost:8080/"
        },
        "id": "5Z2Jkw3UHNhB",
        "outputId": "abc32629-762c-44a3-90b4-3d0a882a6b50"
      },
      "execution_count": null,
      "outputs": [
        {
          "output_type": "execute_result",
          "data": {
            "text/plain": [
              "0        5\n",
              "1        0\n",
              "2        4\n",
              "3        1\n",
              "4        9\n",
              "        ..\n",
              "59995    8\n",
              "59996    3\n",
              "59997    5\n",
              "59998    6\n",
              "59999    8\n",
              "Name: class, Length: 60000, dtype: category\n",
              "Categories (10, object): ['0', '1', '2', '3', ..., '6', '7', '8', '9']"
            ]
          },
          "metadata": {},
          "execution_count": 13
        }
      ]
    },
    {
      "cell_type": "code",
      "source": [
        "# Try 3-fold cross-validation on a K-nearest-neighbor using the default settings.\n",
        "\n",
        "model_knn = KNeighborsClassifier()\n",
        "\n",
        "# The model will automatically train as multiclass because it has all 10\n",
        "# numeric labels in y.\n",
        "knn_scores = cross_val_score(model_knn, X_train, y_train_multiclass, cv=3, scoring=\"accuracy\")\n",
        "print(\"KNN\", knn_scores)"
      ],
      "metadata": {
        "id": "UQvGHU-3U14q",
        "colab": {
          "base_uri": "https://localhost:8080/"
        },
        "outputId": "25c7db56-d25f-448b-bf52-79742f203977"
      },
      "execution_count": null,
      "outputs": [
        {
          "output_type": "stream",
          "name": "stdout",
          "text": [
            "KNN [0.9676  0.9671  0.96755]\n"
          ]
        }
      ]
    },
    {
      "cell_type": "code",
      "source": [
        "# Start Question 2 of the homework here. Try to get a final score above 97%\n",
        "# with multiclass classification using a grid search."
      ],
      "metadata": {
        "id": "0GGfQD3CUkr8"
      },
      "execution_count": null,
      "outputs": []
    },
    {
      "cell_type": "code",
      "source": [
        "from sklearn.model_selection import GridSearchCV"
      ],
      "metadata": {
        "id": "wuR8RWW8DlDH"
      },
      "execution_count": null,
      "outputs": []
    },
    {
      "cell_type": "code",
      "source": [
        "space = [{\"weights\": [\"uniform\", \"distance\"],\"n_neighbors\": [2, 3, 5, 7] } ]"
      ],
      "metadata": {
        "id": "mGDv0LXSDk_d"
      },
      "execution_count": null,
      "outputs": []
    },
    {
      "cell_type": "code",
      "source": [
        "knn_grid_search = GridSearchCV(model_knn, param_grid=space, cv=3, scoring=\"accuracy\", return_train_score = False)\n",
        "knn_grid_search.fit(X_train, y_train_multiclass)"
      ],
      "metadata": {
        "colab": {
          "base_uri": "https://localhost:8080/"
        },
        "id": "uVTo_6TgDk43",
        "outputId": "8cea2249-c97e-4c2f-d012-1325fe00ec6a"
      },
      "execution_count": null,
      "outputs": [
        {
          "output_type": "execute_result",
          "data": {
            "text/plain": [
              "GridSearchCV(cv=3, estimator=KNeighborsClassifier(),\n",
              "             param_grid=[{'n_neighbors': [2, 3, 5, 7],\n",
              "                          'weights': ['uniform', 'distance']}],\n",
              "             scoring='accuracy')"
            ]
          },
          "metadata": {},
          "execution_count": 19
        }
      ]
    },
    {
      "cell_type": "code",
      "source": [
        "print(knn_grid_search.best_estimator_)\n",
        "print(knn_grid_search.best_score_)\n",
        "print(knn_grid_search.best_params_)"
      ],
      "metadata": {
        "colab": {
          "base_uri": "https://localhost:8080/"
        },
        "id": "9mtenzbgDkyS",
        "outputId": "bb1dbcc7-c163-40a6-c4e0-aa4916b42a81"
      },
      "execution_count": null,
      "outputs": [
        {
          "output_type": "stream",
          "name": "stdout",
          "text": [
            "KNeighborsClassifier(n_neighbors=3, weights='distance')\n",
            "0.9693333333333333\n",
            "{'n_neighbors': 3, 'weights': 'distance'}\n"
          ]
        }
      ]
    },
    {
      "cell_type": "code",
      "source": [],
      "metadata": {
        "id": "ihYaYHHgDktQ"
      },
      "execution_count": null,
      "outputs": []
    },
    {
      "cell_type": "code",
      "source": [],
      "metadata": {
        "id": "VY8MEFraDkgd"
      },
      "execution_count": null,
      "outputs": []
    }
  ],
  "metadata": {
    "colab": {
      "provenance": [],
      "include_colab_link": true
    },
    "kernelspec": {
      "display_name": "Python 3",
      "name": "python3"
    },
    "language_info": {
      "name": "python"
    }
  },
  "nbformat": 4,
  "nbformat_minor": 0
}