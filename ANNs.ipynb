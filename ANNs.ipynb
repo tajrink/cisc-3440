{
  "cells": [
    {
      "cell_type": "markdown",
      "metadata": {
        "id": "view-in-github",
        "colab_type": "text"
      },
      "source": [
        "<a href=\"https://colab.research.google.com/github/tajrink/cisc-3440/blob/main/ANNs.ipynb\" target=\"_parent\"><img src=\"https://colab.research.google.com/assets/colab-badge.svg\" alt=\"Open In Colab\"/></a>"
      ]
    },
    {
      "cell_type": "code",
      "execution_count": null,
      "metadata": {
        "id": "sDtTatT0Br_F"
      },
      "outputs": [],
      "source": [
        "from matplotlib import pyplot as plt\n",
        "import numpy as np\n",
        "import pandas as pd\n",
        "from tensorflow import keras\n",
        "from sklearn.datasets import fetch_covtype\n",
        "from sklearn.model_selection import train_test_split\n",
        "from sklearn.preprocessing import StandardScaler\n",
        "from sklearn.ensemble import RandomForestClassifier\n",
        "from sklearn import metrics"
      ]
    },
    {
      "cell_type": "code",
      "execution_count": null,
      "metadata": {
        "id": "DQSUkpFPMY7I"
      },
      "outputs": [],
      "source": [
        "# Retrieve the covertype dataset from SKLearn\n",
        "data = fetch_covtype()"
      ]
    },
    {
      "cell_type": "code",
      "execution_count": null,
      "metadata": {
        "id": "9Ey3Rlql3qp_"
      },
      "outputs": [],
      "source": [
        "X = data.data\n",
        "\n",
        "# For the covertype data, the classes are labeled 1-7.\n",
        "# This will cause problems with Keras, since it expects\n",
        "# class labels to start at 0. We can fix it by subtracting 1\n",
        "# from the labels.\n",
        "y = data.target - 1"
      ]
    },
    {
      "cell_type": "code",
      "execution_count": null,
      "metadata": {
        "id": "efydcftwcIaE"
      },
      "outputs": [],
      "source": [
        "#necessary preprocessing steps on the data ?"
      ]
    },
    {
      "cell_type": "code",
      "source": [
        "df_target = pd.DataFrame(y)\n",
        "df_target.value_counts()"
      ],
      "metadata": {
        "colab": {
          "base_uri": "https://localhost:8080/"
        },
        "id": "afmcs2I5hWO4",
        "outputId": "eeb57e31-0764-4275-aefe-791e2dd1d24f"
      },
      "execution_count": null,
      "outputs": [
        {
          "output_type": "execute_result",
          "data": {
            "text/plain": [
              "1    283301\n",
              "0    211840\n",
              "2     35754\n",
              "6     20510\n",
              "5     17367\n",
              "4      9493\n",
              "3      2747\n",
              "dtype: int64"
            ]
          },
          "metadata": {},
          "execution_count": 32
        }
      ]
    },
    {
      "cell_type": "code",
      "execution_count": null,
      "metadata": {
        "colab": {
          "base_uri": "https://localhost:8080/"
        },
        "id": "UDjLUQwt8KGb",
        "outputId": "007e74b5-e17c-4089-8e54-48a1210a7fea"
      },
      "outputs": [
        {
          "name": "stdout",
          "output_type": "stream",
          "text": [
            ".. _covtype_dataset:\n",
            "\n",
            "Forest covertypes\n",
            "-----------------\n",
            "\n",
            "The samples in this dataset correspond to 30×30m patches of forest in the US,\n",
            "collected for the task of predicting each patch's cover type,\n",
            "i.e. the dominant species of tree.\n",
            "There are seven covertypes, making this a multiclass classification problem.\n",
            "Each sample has 54 features, described on the\n",
            "`dataset's homepage <https://archive.ics.uci.edu/ml/datasets/Covertype>`__.\n",
            "Some of the features are boolean indicators,\n",
            "while others are discrete or continuous measurements.\n",
            "\n",
            "**Data Set Characteristics:**\n",
            "\n",
            "    =================   ============\n",
            "    Classes                        7\n",
            "    Samples total             581012\n",
            "    Dimensionality                54\n",
            "    Features                     int\n",
            "    =================   ============\n",
            "\n",
            ":func:`sklearn.datasets.fetch_covtype` will load the covertype dataset;\n",
            "it returns a dictionary-like 'Bunch' object\n",
            "with the feature matrix in the ``data`` member\n",
            "and the target values in ``target``. If optional argument 'as_frame' is\n",
            "set to 'True', it will return ``data`` and ``target`` as pandas\n",
            "data frame, and there will be an additional member ``frame`` as well.\n",
            "The dataset will be downloaded from the web if necessary.\n",
            "\n"
          ]
        }
      ],
      "source": [
        "print(data.DESCR)"
      ]
    },
    {
      "cell_type": "code",
      "execution_count": null,
      "metadata": {
        "colab": {
          "base_uri": "https://localhost:8080/",
          "height": 279
        },
        "id": "JLfNDSKe2zck",
        "outputId": "07c2a29c-8a7b-405a-d05c-c12e379f8dac"
      },
      "outputs": [
        {
          "data": {
            "image/png": "[encoded data removed]",
            "text/plain": [
              "<Figure size 432x288 with 1 Axes>"
            ]
          },
          "metadata": {},
          "output_type": "display_data"
        }
      ],
      "source": [
        "plt.figure()\n",
        "plt.hist(y)\n",
        "plt.ylabel('#instances')\n",
        "plt.xlabel('class')\n",
        "plt.show()"
      ]
    },
    {
      "cell_type": "code",
      "execution_count": null,
      "metadata": {
        "colab": {
          "base_uri": "https://localhost:8080/"
        },
        "id": "-2zQLnYEQcfa",
        "outputId": "bfdd7dc1-420d-4b94-da40-3d27aaa87331"
      },
      "outputs": [
        {
          "data": {
            "text/plain": [
              "(581012, 54)"
            ]
          },
          "execution_count": 7,
          "metadata": {},
          "output_type": "execute_result"
        }
      ],
      "source": [
        "data.data.shape"
      ]
    },
    {
      "cell_type": "code",
      "execution_count": null,
      "metadata": {
        "id": "OwWRVQZ1QcdP"
      },
      "outputs": [],
      "source": [
        "#create appropriate train, test, and validation splits\n",
        "#train_test_split\n",
        "X_train,X_test,y_train,y_test=train_test_split(X,y,test_size=0.95, random_state=42, stratify=y)\n",
        "X_valid, X_test, y_valid, y_test = train_test_split(X_test, y_test, test_size=0.5, random_state=42, stratify=y_test)"
      ]
    },
    {
      "cell_type": "code",
      "execution_count": null,
      "metadata": {
        "colab": {
          "base_uri": "https://localhost:8080/"
        },
        "id": "XPMNHcGLGFRF",
        "outputId": "71c1ad96-9aa6-4564-f940-fae7069792bf"
      },
      "outputs": [
        {
          "data": {
            "text/plain": [
              "(29050, 54)"
            ]
          },
          "execution_count": 9,
          "metadata": {},
          "output_type": "execute_result"
        }
      ],
      "source": [
        "X_train.shape"
      ]
    },
    {
      "cell_type": "code",
      "execution_count": null,
      "metadata": {
        "colab": {
          "base_uri": "https://localhost:8080/"
        },
        "id": "lbHlbk5jGKYn",
        "outputId": "0f572f1c-2900-47e8-a032-1c541a87d34c"
      },
      "outputs": [
        {
          "data": {
            "text/plain": [
              "(275981, 54)"
            ]
          },
          "execution_count": 10,
          "metadata": {},
          "output_type": "execute_result"
        }
      ],
      "source": [
        "X_valid.shape"
      ]
    },
    {
      "cell_type": "code",
      "execution_count": null,
      "metadata": {
        "colab": {
          "base_uri": "https://localhost:8080/"
        },
        "id": "8mUqz5KVGSZ_",
        "outputId": "6453f549-bd50-4fb8-dbbd-a207416eaeee"
      },
      "outputs": [
        {
          "data": {
            "text/plain": [
              "(275981, 54)"
            ]
          },
          "execution_count": 11,
          "metadata": {},
          "output_type": "execute_result"
        }
      ],
      "source": [
        "X_test.shape"
      ]
    },
    {
      "cell_type": "code",
      "execution_count": null,
      "metadata": {
        "id": "t9j1R5YYQcYC"
      },
      "outputs": [],
      "source": [
        "#scalling\n",
        "scaler = StandardScaler()\n",
        "X_train = scaler.fit_transform(X_train)\n",
        "X_test = scaler.transform(X_test)\n",
        "X_valid = scaler.transform(X_valid)"
      ]
    },
    {
      "cell_type": "code",
      "execution_count": null,
      "metadata": {
        "colab": {
          "base_uri": "https://localhost:8080/"
        },
        "id": "31_2FFG8QcVP",
        "outputId": "5ab9fe93-23bc-42cb-9962-189ed907f2cf"
      },
      "outputs": [
        {
          "data": {
            "text/plain": [
              "RandomForestClassifier(max_depth=5, n_estimators=1000)"
            ]
          },
          "execution_count": 13,
          "metadata": {},
          "output_type": "execute_result"
        }
      ],
      "source": [
        "#random forest classifier\n",
        "rfc=RandomForestClassifier(n_estimators=1000,max_depth=5)\n",
        "rfc.fit(X_train,y_train)"
      ]
    },
    {
      "cell_type": "code",
      "execution_count": null,
      "metadata": {
        "id": "B5c0UxlfQcSG"
      },
      "outputs": [],
      "source": [
        "y_pred=rfc.predict(X_test)"
      ]
    },
    {
      "cell_type": "code",
      "execution_count": null,
      "metadata": {
        "colab": {
          "base_uri": "https://localhost:8080/"
        },
        "id": "nE3gYRA3QcPJ",
        "outputId": "d2ed59e1-7bd4-4bca-fde8-c378b996aa26"
      },
      "outputs": [
        {
          "name": "stderr",
          "output_type": "stream",
          "text": [
            "/usr/local/lib/python3.7/dist-packages/sklearn/metrics/_classification.py:1318: UndefinedMetricWarning: Precision and F-score are ill-defined and being set to 0.0 in labels with no predicted samples. Use `zero_division` parameter to control this behavior.\n",
            "  _warn_prf(average, modifier, msg_start, len(result))\n"
          ]
        },
        {
          "name": "stdout",
          "output_type": "stream",
          "text": [
            "              precision    recall  f1-score   support\n",
            "\n",
            "           0       0.65      0.72      0.69    100624\n",
            "           1       0.71      0.77      0.74    134568\n",
            "           2       0.59      0.61      0.60     16983\n",
            "           3       0.00      0.00      0.00      1305\n",
            "           4       0.00      0.00      0.00      4509\n",
            "           5       0.00      0.00      0.00      8250\n",
            "           6       0.00      0.00      0.00      9742\n",
            "\n",
            "    accuracy                           0.68    275981\n",
            "   macro avg       0.28      0.30      0.29    275981\n",
            "weighted avg       0.62      0.68      0.65    275981\n",
            "\n"
          ]
        },
        {
          "name": "stderr",
          "output_type": "stream",
          "text": [
            "/usr/local/lib/python3.7/dist-packages/sklearn/metrics/_classification.py:1318: UndefinedMetricWarning: Precision and F-score are ill-defined and being set to 0.0 in labels with no predicted samples. Use `zero_division` parameter to control this behavior.\n",
            "  _warn_prf(average, modifier, msg_start, len(result))\n",
            "/usr/local/lib/python3.7/dist-packages/sklearn/metrics/_classification.py:1318: UndefinedMetricWarning: Precision and F-score are ill-defined and being set to 0.0 in labels with no predicted samples. Use `zero_division` parameter to control this behavior.\n",
            "  _warn_prf(average, modifier, msg_start, len(result))\n"
          ]
        }
      ],
      "source": [
        "#classification report\n",
        "print(metrics.classification_report(y_test,y_pred))"
      ]
    },
    {
      "cell_type": "code",
      "execution_count": null,
      "metadata": {
        "id": "iWXn2EFb9Imn"
      },
      "outputs": [],
      "source": [
        "#validation"
      ]
    },
    {
      "cell_type": "code",
      "execution_count": null,
      "metadata": {
        "id": "9yl-ka6MIPaI"
      },
      "outputs": [],
      "source": [
        "y_pred = rfc.predict(X_valid)"
      ]
    },
    {
      "cell_type": "code",
      "execution_count": null,
      "metadata": {
        "colab": {
          "base_uri": "https://localhost:8080/"
        },
        "id": "-W0za4rHIrqP",
        "outputId": "9a9a3c4c-176b-4607-ffd8-6db706a3764b"
      },
      "outputs": [
        {
          "name": "stderr",
          "output_type": "stream",
          "text": [
            "/usr/local/lib/python3.7/dist-packages/sklearn/metrics/_classification.py:1318: UndefinedMetricWarning: Precision and F-score are ill-defined and being set to 0.0 in labels with no predicted samples. Use `zero_division` parameter to control this behavior.\n",
            "  _warn_prf(average, modifier, msg_start, len(result))\n"
          ]
        },
        {
          "name": "stdout",
          "output_type": "stream",
          "text": [
            "              precision    recall  f1-score   support\n",
            "\n",
            "           0       0.65      0.72      0.69    100624\n",
            "           1       0.71      0.78      0.74    134568\n",
            "           2       0.59      0.60      0.60     16983\n",
            "           3       0.00      0.00      0.00      1305\n",
            "           4       0.00      0.00      0.00      4509\n",
            "           5       0.00      0.00      0.00      8249\n",
            "           6       0.00      0.00      0.00      9743\n",
            "\n",
            "    accuracy                           0.68    275981\n",
            "   macro avg       0.28      0.30      0.29    275981\n",
            "weighted avg       0.62      0.68      0.65    275981\n",
            "\n"
          ]
        },
        {
          "name": "stderr",
          "output_type": "stream",
          "text": [
            "/usr/local/lib/python3.7/dist-packages/sklearn/metrics/_classification.py:1318: UndefinedMetricWarning: Precision and F-score are ill-defined and being set to 0.0 in labels with no predicted samples. Use `zero_division` parameter to control this behavior.\n",
            "  _warn_prf(average, modifier, msg_start, len(result))\n",
            "/usr/local/lib/python3.7/dist-packages/sklearn/metrics/_classification.py:1318: UndefinedMetricWarning: Precision and F-score are ill-defined and being set to 0.0 in labels with no predicted samples. Use `zero_division` parameter to control this behavior.\n",
            "  _warn_prf(average, modifier, msg_start, len(result))\n"
          ]
        }
      ],
      "source": [
        "print(metrics.classification_report(y_valid,y_pred))"
      ]
    },
    {
      "cell_type": "code",
      "execution_count": null,
      "metadata": {
        "id": "vQgnE1pZQcJX"
      },
      "outputs": [],
      "source": [
        "#neural network capable of performing multi-class classification on the dataset\n",
        "#neural network\n",
        "model = keras.models.Sequential()\n",
        "\n",
        "# Hidden layer definitions\n",
        "model.add(keras.layers.Dense(units=25, activation='relu',input_shape= X_train.shape[1:]))\n",
        "\n",
        "# Output layer definitions\n",
        "model.add(keras.layers.Dense(units=7, activation='softmax'))"
      ]
    },
    {
      "cell_type": "code",
      "execution_count": null,
      "metadata": {
        "colab": {
          "base_uri": "https://localhost:8080/"
        },
        "id": "T9FVQJ16_X3R",
        "outputId": "3c762d8f-cb78-4ddb-ccdb-ec75b752eed5"
      },
      "outputs": [
        {
          "name": "stdout",
          "output_type": "stream",
          "text": [
            "Model: \"sequential\"\n",
            "_________________________________________________________________\n",
            " Layer (type)                Output Shape              Param #   \n",
            "=================================================================\n",
            " dense (Dense)               (None, 25)                1375      \n",
            "                                                                 \n",
            " dense_1 (Dense)             (None, 7)                 182       \n",
            "                                                                 \n",
            "=================================================================\n",
            "Total params: 1,557\n",
            "Trainable params: 1,557\n",
            "Non-trainable params: 0\n",
            "_________________________________________________________________\n"
          ]
        }
      ],
      "source": [
        "model.summary()"
      ]
    },
    {
      "cell_type": "code",
      "execution_count": null,
      "metadata": {
        "id": "-bJcwK4bQcGV"
      },
      "outputs": [],
      "source": [
        "# Compile the network model with relevant configurations.\n",
        "# loss, optimizer and metrics are three important configurations.\n",
        "model.compile(loss='sparse_categorical_crossentropy',optimizer='sgd', metrics=['accuracy'])"
      ]
    },
    {
      "cell_type": "code",
      "execution_count": null,
      "metadata": {
        "colab": {
          "background_save": true,
          "base_uri": "https://localhost:8080/"
        },
        "id": "vW_LeQc5QcDR",
        "outputId": "004fd5d4-4cf1-419b-fe7d-151cd212e4a7"
      },
      "outputs": [
        {
          "name": "stdout",
          "output_type": "stream",
          "text": [
            "Epoch 1/30\n",
            "1816/1816 [==============================] - 30s 17ms/step - loss: 0.6064 - accuracy: 0.7431 - val_loss: 0.6060 - val_accuracy: 0.7416\n",
            "Epoch 2/30\n",
            "1816/1816 [==============================] - 27s 15ms/step - loss: 0.6023 - accuracy: 0.7456 - val_loss: 0.6033 - val_accuracy: 0.7438\n",
            "Epoch 3/30\n",
            "1816/1816 [==============================] - 28s 15ms/step - loss: 0.5971 - accuracy: 0.7481 - val_loss: 0.5979 - val_accuracy: 0.7439\n",
            "Epoch 4/30\n",
            "1816/1816 [==============================] - 29s 16ms/step - loss: 0.5942 - accuracy: 0.7494 - val_loss: 0.5956 - val_accuracy: 0.7477\n",
            "Epoch 5/30\n",
            "1816/1816 [==============================] - 45s 25ms/step - loss: 0.5907 - accuracy: 0.7501 - val_loss: 0.5945 - val_accuracy: 0.7472\n",
            "Epoch 6/30\n",
            "1816/1816 [==============================] - 29s 16ms/step - loss: 0.5875 - accuracy: 0.7522 - val_loss: 0.5908 - val_accuracy: 0.7482\n",
            "Epoch 7/30\n",
            "1816/1816 [==============================] - 27s 15ms/step - loss: 0.5844 - accuracy: 0.7510 - val_loss: 0.5897 - val_accuracy: 0.7493\n",
            "Epoch 8/30\n",
            "1816/1816 [==============================] - 28s 15ms/step - loss: 0.5818 - accuracy: 0.7547 - val_loss: 0.5869 - val_accuracy: 0.7516\n",
            "Epoch 9/30\n",
            "1816/1816 [==============================] - 45s 25ms/step - loss: 0.5795 - accuracy: 0.7544 - val_loss: 0.5820 - val_accuracy: 0.7536\n",
            "Epoch 10/30\n",
            "1816/1816 [==============================] - 28s 15ms/step - loss: 0.5764 - accuracy: 0.7548 - val_loss: 0.5822 - val_accuracy: 0.7524\n",
            "Epoch 11/30\n",
            "1816/1816 [==============================] - 28s 15ms/step - loss: 0.5741 - accuracy: 0.7583 - val_loss: 0.5783 - val_accuracy: 0.7553\n",
            "Epoch 12/30\n",
            "1816/1816 [==============================] - 27s 15ms/step - loss: 0.5718 - accuracy: 0.7598 - val_loss: 0.5765 - val_accuracy: 0.7561\n",
            "Epoch 13/30\n",
            "1816/1816 [==============================] - 44s 24ms/step - loss: 0.5694 - accuracy: 0.7589 - val_loss: 0.5762 - val_accuracy: 0.7563\n",
            "Epoch 14/30\n",
            "1816/1816 [==============================] - 44s 24ms/step - loss: 0.5676 - accuracy: 0.7612 - val_loss: 0.5771 - val_accuracy: 0.7564\n",
            "Epoch 15/30\n",
            "1816/1816 [==============================] - 45s 25ms/step - loss: 0.5658 - accuracy: 0.7597 - val_loss: 0.5745 - val_accuracy: 0.7545\n",
            "Epoch 16/30\n",
            "1816/1816 [==============================] - 46s 25ms/step - loss: 0.5637 - accuracy: 0.7613 - val_loss: 0.5727 - val_accuracy: 0.7533\n",
            "Epoch 17/30\n",
            "1816/1816 [==============================] - 44s 24ms/step - loss: 0.5624 - accuracy: 0.7601 - val_loss: 0.5691 - val_accuracy: 0.7585\n",
            "Epoch 18/30\n",
            "1816/1816 [==============================] - 45s 25ms/step - loss: 0.5600 - accuracy: 0.7632 - val_loss: 0.5674 - val_accuracy: 0.7592\n",
            "Epoch 19/30\n",
            "1816/1816 [==============================] - 44s 24ms/step - loss: 0.5585 - accuracy: 0.7629 - val_loss: 0.5660 - val_accuracy: 0.7593\n",
            "Epoch 20/30\n",
            "1816/1816 [==============================] - 28s 15ms/step - loss: 0.5573 - accuracy: 0.7629 - val_loss: 0.5680 - val_accuracy: 0.7567\n",
            "Epoch 21/30\n",
            "1816/1816 [==============================] - 27s 15ms/step - loss: 0.5553 - accuracy: 0.7650 - val_loss: 0.5668 - val_accuracy: 0.7559\n",
            "Epoch 22/30\n",
            "1816/1816 [==============================] - 44s 24ms/step - loss: 0.5549 - accuracy: 0.7628 - val_loss: 0.5643 - val_accuracy: 0.7601\n",
            "Epoch 23/30\n",
            "1816/1816 [==============================] - 45s 25ms/step - loss: 0.5531 - accuracy: 0.7643 - val_loss: 0.5703 - val_accuracy: 0.7550\n",
            "Epoch 24/30\n",
            "1816/1816 [==============================] - 29s 16ms/step - loss: 0.5527 - accuracy: 0.7648 - val_loss: 0.5636 - val_accuracy: 0.7572\n",
            "Epoch 25/30\n",
            "1816/1816 [==============================] - 28s 15ms/step - loss: 0.5502 - accuracy: 0.7670 - val_loss: 0.5663 - val_accuracy: 0.7554\n",
            "Epoch 26/30\n",
            "1816/1816 [==============================] - 44s 24ms/step - loss: 0.5498 - accuracy: 0.7659 - val_loss: 0.5611 - val_accuracy: 0.7590\n",
            "Epoch 27/30\n",
            "1816/1816 [==============================] - 44s 24ms/step - loss: 0.5487 - accuracy: 0.7659 - val_loss: 0.5599 - val_accuracy: 0.7604\n",
            "Epoch 28/30\n",
            "1816/1816 [==============================] - 26s 15ms/step - loss: 0.5476 - accuracy: 0.7674 - val_loss: 0.5625 - val_accuracy: 0.7581\n",
            "Epoch 29/30\n",
            "1816/1816 [==============================] - 45s 25ms/step - loss: 0.5464 - accuracy: 0.7672 - val_loss: 0.5583 - val_accuracy: 0.7610\n",
            "Epoch 30/30\n",
            "1816/1816 [==============================] - 45s 25ms/step - loss: 0.5448 - accuracy: 0.7694 - val_loss: 0.5600 - val_accuracy: 0.7614\n"
          ]
        }
      ],
      "source": [
        "history=model.fit(X_train, y_train, validation_data=(X_valid, y_valid), epochs=30,batch_size=16)"
      ]
    },
    {
      "cell_type": "code",
      "execution_count": null,
      "metadata": {
        "colab": {
          "base_uri": "https://localhost:8080/"
        },
        "id": "ZZz7mS2ZBOCR",
        "outputId": "ebf6d5fa-4513-4a28-d9f0-94bc97c682bf"
      },
      "outputs": [
        {
          "data": {
            "text/plain": [
              "dict_keys(['loss', 'accuracy', 'val_loss', 'val_accuracy'])"
            ]
          },
          "execution_count": 23,
          "metadata": {},
          "output_type": "execute_result"
        }
      ],
      "source": [
        "history.history.keys()"
      ]
    },
    {
      "cell_type": "code",
      "execution_count": null,
      "metadata": {
        "colab": {
          "base_uri": "https://localhost:8080/",
          "height": 282
        },
        "id": "zNkKO4R9BSFc",
        "outputId": "273541ed-5222-4e28-cb81-8cee4a86f3ba"
      },
      "outputs": [
        {
          "data": {
            "text/plain": [
              "<matplotlib.axes._subplots.AxesSubplot at 0x7f98b52ea750>"
            ]
          },
          "execution_count": 24,
          "metadata": {},
          "output_type": "execute_result"
        },
        {
          "data": {
            "image/png": "[encoded data removed]",
            "text/plain": [
              "<Figure size 432x288 with 1 Axes>"
            ]
          },
          "metadata": {},
          "output_type": "display_data"
        }
      ],
      "source": [
        "pd.DataFrame(history.history).plot()"
      ]
    },
    {
      "cell_type": "code",
      "execution_count": null,
      "metadata": {
        "colab": {
          "base_uri": "https://localhost:8080/"
        },
        "id": "SP6jCwRBB517",
        "outputId": "8d589eea-6722-4eda-fac8-b4272242436b"
      },
      "outputs": [
        {
          "name": "stdout",
          "output_type": "stream",
          "text": [
            "8625/8625 [==============================] - 13s 2ms/step\n"
          ]
        }
      ],
      "source": [
        "y_pred = model.predict(X_valid)"
      ]
    },
    {
      "cell_type": "code",
      "execution_count": null,
      "metadata": {
        "colab": {
          "base_uri": "https://localhost:8080/"
        },
        "id": "tbqcC0ULBnTn",
        "outputId": "fbba2658-7bff-43f5-8a3a-c50807b6b4f7"
      },
      "outputs": [
        {
          "name": "stdout",
          "output_type": "stream",
          "text": [
            "              precision    recall  f1-score   support\n",
            "\n",
            "           0       0.75      0.68      0.72    100624\n",
            "           1       0.76      0.83      0.79    134568\n",
            "           2       0.65      0.88      0.75     16983\n",
            "           3       0.46      0.01      0.03      1305\n",
            "           4       0.81      0.07      0.14      4509\n",
            "           5       0.51      0.19      0.28      8249\n",
            "           6       0.67      0.64      0.65      9743\n",
            "\n",
            "    accuracy                           0.74    275981\n",
            "   macro avg       0.66      0.47      0.48    275981\n",
            "weighted avg       0.74      0.74      0.73    275981\n",
            "\n"
          ]
        }
      ],
      "source": [
        "#validation accuracy of about 85%\n",
        "#classification report\n",
        "print(metrics.classification_report(y_valid, np.argmax(y_pred, axis=1)))"
      ]
    },
    {
      "cell_type": "code",
      "execution_count": null,
      "metadata": {
        "id": "8cOaQtLhQb_2"
      },
      "outputs": [],
      "source": [
        "# Perform a final evaluation on the best-performing model with test set.\n",
        "#Which model performed better?"
      ]
    },
    {
      "cell_type": "code",
      "source": [
        "#neural network performed better"
      ],
      "metadata": {
        "id": "3flhanHAh4No"
      },
      "execution_count": null,
      "outputs": []
    }
  ],
  "metadata": {
    "colab": {
      "provenance": [],
      "include_colab_link": true
    },
    "kernelspec": {
      "display_name": "Python 3",
      "name": "python3"
    },
    "language_info": {
      "name": "python"
    }
  },
  "nbformat": 4,
  "nbformat_minor": 0
}