{
  "nbformat": 4,
  "nbformat_minor": 0,
  "metadata": {
    "colab": {
      "provenance": [],
      "collapsed_sections": [],
      "include_colab_link": true
    },
    "kernelspec": {
      "name": "python3",
      "display_name": "Python 3"
    },
    "language_info": {
      "name": "python"
    }
  },
  "cells": [
    {
      "cell_type": "markdown",
      "metadata": {
        "id": "view-in-github",
        "colab_type": "text"
      },
      "source": [
        "<a href=\"https://colab.research.google.com/github/tajrink/cisc-3440/blob/main/Q_01_LifeSatisfaction.ipynb\" target=\"_parent\"><img src=\"https://colab.research.google.com/assets/colab-badge.svg\" alt=\"Open In Colab\"/></a>"
      ]
    },
    {
      "cell_type": "code",
      "execution_count": 142,
      "metadata": {
        "id": "A1lW8zZGOZph"
      },
      "outputs": [],
      "source": [
        "# Import pandas and matplotlib\n",
        "import pandas as pd\n",
        "from matplotlib import pyplot as plt\n",
        "import matplotlib as mpl\n",
        "\n",
        "import numpy as np\n",
        "\n",
        "# Import sklearn model and metrics function\n",
        "from sklearn.linear_model import LinearRegression\n",
        "from sklearn.metrics import mean_squared_error\n",
        "\n",
        "# Import k-nearest-neighbors regressor for homework\n",
        "from sklearn.neighbors import KNeighborsRegressor"
      ]
    },
    {
      "cell_type": "code",
      "source": [
        "# Load the life satisfaction CSV into a dataframe\n",
        "df = pd.read_csv('https://raw.githubusercontent.com/CUNY-CISC3440-Fall2022/datasets/main/life_satisfaction.csv')"
      ],
      "metadata": {
        "id": "4t4UjSekPOkP"
      },
      "execution_count": 143,
      "outputs": []
    },
    {
      "cell_type": "code",
      "source": [
        "# View the data in the dataframe\n",
        "df"
      ],
      "metadata": {
        "colab": {
          "base_uri": "https://localhost:8080/",
          "height": 959
        },
        "id": "zugXQZNTwKBP",
        "outputId": "82b879af-17b0-4a3d-e76e-82ccbd126ede"
      },
      "execution_count": 144,
      "outputs": [
        {
          "output_type": "execute_result",
          "data": {
            "text/plain": [
              "            country  gdp_per_capita  life_satisfaction\n",
              "0            Brazil        8669.998                6.4\n",
              "1            Mexico        9009.280                6.5\n",
              "2            Russia        9054.914                5.8\n",
              "3            Turkey        9437.372                5.5\n",
              "4            Poland       12495.334                6.1\n",
              "5            Latvia       13618.569                5.9\n",
              "6         Lithuania       14210.280                5.9\n",
              "7   Slovak Republic       15991.736                6.2\n",
              "8    Czech Republic       17256.918                6.7\n",
              "9           Estonia       17288.083                5.7\n",
              "10           Greece       18064.288                5.4\n",
              "11         Portugal       19121.592                5.4\n",
              "12         Slovenia       20732.482                5.9\n",
              "13            Spain       25864.721                6.3\n",
              "14            Korea       27195.197                5.9\n",
              "15            Italy       29866.581                6.0\n",
              "16            Japan       32485.545                5.9\n",
              "17           Israel       35343.336                7.2\n",
              "18      New Zealand       37044.891                7.3\n",
              "19           France       37675.006                6.5\n",
              "20          Belgium       40106.632                6.9\n",
              "21          Germany       40996.511                7.0\n",
              "22          Finland       41973.988                7.6\n",
              "23           Canada       43331.961                7.4\n",
              "24      Netherlands       43603.115                7.4\n",
              "25          Austria       43724.031                7.1\n",
              "26   United Kingdom       43770.688                6.8\n",
              "27           Sweden       49866.266                7.3\n",
              "28          Iceland       50854.583                7.5"
            ],
            "text/html": [
              "\n",
              "  <div id=\"df-33f9b550-2f82-480b-9a67-1074acbace91\">\n",
              "    <div class=\"colab-df-container\">\n",
              "      <div>\n",
              "<style scoped>\n",
              "    .dataframe tbody tr th:only-of-type {\n",
              "        vertical-align: middle;\n",
              "    }\n",
              "\n",
              "    .dataframe tbody tr th {\n",
              "        vertical-align: top;\n",
              "    }\n",
              "\n",
              "    .dataframe thead th {\n",
              "        text-align: right;\n",
              "    }\n",
              "</style>\n",
              "<table border=\"1\" class=\"dataframe\">\n",
              "  <thead>\n",
              "    <tr style=\"text-align: right;\">\n",
              "      <th></th>\n",
              "      <th>country</th>\n",
              "      <th>gdp_per_capita</th>\n",
              "      <th>life_satisfaction</th>\n",
              "    </tr>\n",
              "  </thead>\n",
              "  <tbody>\n",
              "    <tr>\n",
              "      <th>0</th>\n",
              "      <td>Brazil</td>\n",
              "      <td>8669.998</td>\n",
              "      <td>6.4</td>\n",
              "    </tr>\n",
              "    <tr>\n",
              "      <th>1</th>\n",
              "      <td>Mexico</td>\n",
              "      <td>9009.280</td>\n",
              "      <td>6.5</td>\n",
              "    </tr>\n",
              "    <tr>\n",
              "      <th>2</th>\n",
              "      <td>Russia</td>\n",
              "      <td>9054.914</td>\n",
              "      <td>5.8</td>\n",
              "    </tr>\n",
              "    <tr>\n",
              "      <th>3</th>\n",
              "      <td>Turkey</td>\n",
              "      <td>9437.372</td>\n",
              "      <td>5.5</td>\n",
              "    </tr>\n",
              "    <tr>\n",
              "      <th>4</th>\n",
              "      <td>Poland</td>\n",
              "      <td>12495.334</td>\n",
              "      <td>6.1</td>\n",
              "    </tr>\n",
              "    <tr>\n",
              "      <th>5</th>\n",
              "      <td>Latvia</td>\n",
              "      <td>13618.569</td>\n",
              "      <td>5.9</td>\n",
              "    </tr>\n",
              "    <tr>\n",
              "      <th>6</th>\n",
              "      <td>Lithuania</td>\n",
              "      <td>14210.280</td>\n",
              "      <td>5.9</td>\n",
              "    </tr>\n",
              "    <tr>\n",
              "      <th>7</th>\n",
              "      <td>Slovak Republic</td>\n",
              "      <td>15991.736</td>\n",
              "      <td>6.2</td>\n",
              "    </tr>\n",
              "    <tr>\n",
              "      <th>8</th>\n",
              "      <td>Czech Republic</td>\n",
              "      <td>17256.918</td>\n",
              "      <td>6.7</td>\n",
              "    </tr>\n",
              "    <tr>\n",
              "      <th>9</th>\n",
              "      <td>Estonia</td>\n",
              "      <td>17288.083</td>\n",
              "      <td>5.7</td>\n",
              "    </tr>\n",
              "    <tr>\n",
              "      <th>10</th>\n",
              "      <td>Greece</td>\n",
              "      <td>18064.288</td>\n",
              "      <td>5.4</td>\n",
              "    </tr>\n",
              "    <tr>\n",
              "      <th>11</th>\n",
              "      <td>Portugal</td>\n",
              "      <td>19121.592</td>\n",
              "      <td>5.4</td>\n",
              "    </tr>\n",
              "    <tr>\n",
              "      <th>12</th>\n",
              "      <td>Slovenia</td>\n",
              "      <td>20732.482</td>\n",
              "      <td>5.9</td>\n",
              "    </tr>\n",
              "    <tr>\n",
              "      <th>13</th>\n",
              "      <td>Spain</td>\n",
              "      <td>25864.721</td>\n",
              "      <td>6.3</td>\n",
              "    </tr>\n",
              "    <tr>\n",
              "      <th>14</th>\n",
              "      <td>Korea</td>\n",
              "      <td>27195.197</td>\n",
              "      <td>5.9</td>\n",
              "    </tr>\n",
              "    <tr>\n",
              "      <th>15</th>\n",
              "      <td>Italy</td>\n",
              "      <td>29866.581</td>\n",
              "      <td>6.0</td>\n",
              "    </tr>\n",
              "    <tr>\n",
              "      <th>16</th>\n",
              "      <td>Japan</td>\n",
              "      <td>32485.545</td>\n",
              "      <td>5.9</td>\n",
              "    </tr>\n",
              "    <tr>\n",
              "      <th>17</th>\n",
              "      <td>Israel</td>\n",
              "      <td>35343.336</td>\n",
              "      <td>7.2</td>\n",
              "    </tr>\n",
              "    <tr>\n",
              "      <th>18</th>\n",
              "      <td>New Zealand</td>\n",
              "      <td>37044.891</td>\n",
              "      <td>7.3</td>\n",
              "    </tr>\n",
              "    <tr>\n",
              "      <th>19</th>\n",
              "      <td>France</td>\n",
              "      <td>37675.006</td>\n",
              "      <td>6.5</td>\n",
              "    </tr>\n",
              "    <tr>\n",
              "      <th>20</th>\n",
              "      <td>Belgium</td>\n",
              "      <td>40106.632</td>\n",
              "      <td>6.9</td>\n",
              "    </tr>\n",
              "    <tr>\n",
              "      <th>21</th>\n",
              "      <td>Germany</td>\n",
              "      <td>40996.511</td>\n",
              "      <td>7.0</td>\n",
              "    </tr>\n",
              "    <tr>\n",
              "      <th>22</th>\n",
              "      <td>Finland</td>\n",
              "      <td>41973.988</td>\n",
              "      <td>7.6</td>\n",
              "    </tr>\n",
              "    <tr>\n",
              "      <th>23</th>\n",
              "      <td>Canada</td>\n",
              "      <td>43331.961</td>\n",
              "      <td>7.4</td>\n",
              "    </tr>\n",
              "    <tr>\n",
              "      <th>24</th>\n",
              "      <td>Netherlands</td>\n",
              "      <td>43603.115</td>\n",
              "      <td>7.4</td>\n",
              "    </tr>\n",
              "    <tr>\n",
              "      <th>25</th>\n",
              "      <td>Austria</td>\n",
              "      <td>43724.031</td>\n",
              "      <td>7.1</td>\n",
              "    </tr>\n",
              "    <tr>\n",
              "      <th>26</th>\n",
              "      <td>United Kingdom</td>\n",
              "      <td>43770.688</td>\n",
              "      <td>6.8</td>\n",
              "    </tr>\n",
              "    <tr>\n",
              "      <th>27</th>\n",
              "      <td>Sweden</td>\n",
              "      <td>49866.266</td>\n",
              "      <td>7.3</td>\n",
              "    </tr>\n",
              "    <tr>\n",
              "      <th>28</th>\n",
              "      <td>Iceland</td>\n",
              "      <td>50854.583</td>\n",
              "      <td>7.5</td>\n",
              "    </tr>\n",
              "  </tbody>\n",
              "</table>\n",
              "</div>\n",
              "      <button class=\"colab-df-convert\" onclick=\"convertToInteractive('df-33f9b550-2f82-480b-9a67-1074acbace91')\"\n",
              "              title=\"Convert this dataframe to an interactive table.\"\n",
              "              style=\"display:none;\">\n",
              "        \n",
              "  <svg xmlns=\"http://www.w3.org/2000/svg\" height=\"24px\"viewBox=\"0 0 24 24\"\n",
              "       width=\"24px\">\n",
              "    <path d=\"M0 0h24v24H0V0z\" fill=\"none\"/>\n",
              "    <path d=\"M18.56 5.44l.94 2.06.94-2.06 2.06-.94-2.06-.94-.94-2.06-.94 2.06-2.06.94zm-11 1L8.5 8.5l.94-2.06 2.06-.94-2.06-.94L8.5 2.5l-.94 2.06-2.06.94zm10 10l.94 2.06.94-2.06 2.06-.94-2.06-.94-.94-2.06-.94 2.06-2.06.94z\"/><path d=\"M17.41 7.96l-1.37-1.37c-.4-.4-.92-.59-1.43-.59-.52 0-1.04.2-1.43.59L10.3 9.45l-7.72 7.72c-.78.78-.78 2.05 0 2.83L4 21.41c.39.39.9.59 1.41.59.51 0 1.02-.2 1.41-.59l7.78-7.78 2.81-2.81c.8-.78.8-2.07 0-2.86zM5.41 20L4 18.59l7.72-7.72 1.47 1.35L5.41 20z\"/>\n",
              "  </svg>\n",
              "      </button>\n",
              "      \n",
              "  <style>\n",
              "    .colab-df-container {\n",
              "      display:flex;\n",
              "      flex-wrap:wrap;\n",
              "      gap: 12px;\n",
              "    }\n",
              "\n",
              "    .colab-df-convert {\n",
              "      background-color: #E8F0FE;\n",
              "      border: none;\n",
              "      border-radius: 50%;\n",
              "      cursor: pointer;\n",
              "      display: none;\n",
              "      fill: #1967D2;\n",
              "      height: 32px;\n",
              "      padding: 0 0 0 0;\n",
              "      width: 32px;\n",
              "    }\n",
              "\n",
              "    .colab-df-convert:hover {\n",
              "      background-color: #E2EBFA;\n",
              "      box-shadow: 0px 1px 2px rgba(60, 64, 67, 0.3), 0px 1px 3px 1px rgba(60, 64, 67, 0.15);\n",
              "      fill: #174EA6;\n",
              "    }\n",
              "\n",
              "    [theme=dark] .colab-df-convert {\n",
              "      background-color: #3B4455;\n",
              "      fill: #D2E3FC;\n",
              "    }\n",
              "\n",
              "    [theme=dark] .colab-df-convert:hover {\n",
              "      background-color: #434B5C;\n",
              "      box-shadow: 0px 1px 3px 1px rgba(0, 0, 0, 0.15);\n",
              "      filter: drop-shadow(0px 1px 2px rgba(0, 0, 0, 0.3));\n",
              "      fill: #FFFFFF;\n",
              "    }\n",
              "  </style>\n",
              "\n",
              "      <script>\n",
              "        const buttonEl =\n",
              "          document.querySelector('#df-33f9b550-2f82-480b-9a67-1074acbace91 button.colab-df-convert');\n",
              "        buttonEl.style.display =\n",
              "          google.colab.kernel.accessAllowed ? 'block' : 'none';\n",
              "\n",
              "        async function convertToInteractive(key) {\n",
              "          const element = document.querySelector('#df-33f9b550-2f82-480b-9a67-1074acbace91');\n",
              "          const dataTable =\n",
              "            await google.colab.kernel.invokeFunction('convertToInteractive',\n",
              "                                                     [key], {});\n",
              "          if (!dataTable) return;\n",
              "\n",
              "          const docLinkHtml = 'Like what you see? Visit the ' +\n",
              "            '<a target=\"_blank\" href=https://colab.research.google.com/notebooks/data_table.ipynb>data table notebook</a>'\n",
              "            + ' to learn more about interactive tables.';\n",
              "          element.innerHTML = '';\n",
              "          dataTable['output_type'] = 'display_data';\n",
              "          await google.colab.output.renderOutput(dataTable, element);\n",
              "          const docLink = document.createElement('div');\n",
              "          docLink.innerHTML = docLinkHtml;\n",
              "          element.appendChild(docLink);\n",
              "        }\n",
              "      </script>\n",
              "    </div>\n",
              "  </div>\n",
              "  "
            ]
          },
          "metadata": {},
          "execution_count": 144
        }
      ]
    },
    {
      "cell_type": "code",
      "source": [
        "# Make a scatter plot with the GDP on the x-axis and satisfaction on the y-axis\n",
        "plt.scatter(df['gdp_per_capita'], df['life_satisfaction'])\n",
        "\n",
        "# Assign labels to the X and Y axis\n",
        "plt.xlabel('GDP per capita')\n",
        "plt.ylabel('Life satisfaction')\n",
        "\n",
        "# Show the plot\n",
        "plt.show()"
      ],
      "metadata": {
        "colab": {
          "base_uri": "https://localhost:8080/",
          "height": 279
        },
        "id": "nzqelEXIdKKz",
        "outputId": "d801deb8-b1bb-4e74-a33c-42b12dc6a048"
      },
      "execution_count": 145,
      "outputs": [
        {
          "output_type": "display_data",
          "data": {
            "text/plain": [
              "<Figure size 432x288 with 1 Axes>"
            ],
            "image/png": "[encoded data removed]"
          },
          "metadata": {
            "needs_background": "light"
          }
        }
      ]
    },
    {
      "cell_type": "code",
      "source": [
        "# For the homework assignment: this part of the code must be repeated once for\n",
        "# every instance in the dataframe. On each repitition, one of the instances is\n",
        "# omitted and reserved for evaluating the trained model.\n",
        "\n",
        "# Create a model instance. LinearRegression() can be substituted for different\n",
        "# model classes without changing the remainder of the code.\n",
        "\n",
        "model = LinearRegression()\n",
        "\n",
        "# Extract the 0th instance from the dataframe and set it aside. This is the\n",
        "# test set.\n",
        "\n",
        "test = df.iloc[[0]]\n",
        "\n",
        "# Remove the 0th instance from the dataframe for the training set.\n",
        "\n",
        "train = df.drop(0)\n",
        "\n",
        "# Specify X (input data) and y (predicted value) for the model\n",
        "\n",
        "X = train[['gdp_per_capita']]\n",
        "y = train['life_satisfaction']\n",
        "\n",
        "# Train the model\n",
        "\n",
        "model.fit(X, y)\n",
        "\n",
        "# Try predicting the life satisfaction from the test set GDP\n",
        "\n",
        "y_pred = model.predict(test[['gdp_per_capita']])\n",
        "\n",
        "# Evaluate the model's performance by finding the root mean squared error.\n",
        "# This compares the predicted life satisfaction value with the ground truth\n",
        "# life satisfaction value from the test set.\n",
        "\n",
        "error_value=[]\n",
        "\n",
        "error = mean_squared_error(test['life_satisfaction'], y_pred, squared=False)\n",
        "\n",
        "# Show the error value\n",
        "\n",
        "error\n",
        "error_value.append(error)"
      ],
      "metadata": {
        "id": "y4VZuvTJd_tZ"
      },
      "execution_count": 146,
      "outputs": []
    },
    {
      "cell_type": "code",
      "source": [
        "test=df.iloc[[1]]\n",
        "train=df.drop(1)\n",
        "X=train[['gdp_per_capita']]\n",
        "y=train['life_satisfaction']\n",
        "model.fit(X,y)\n",
        "y_pred=model.predict(test[['gdp_per_capita']])\n",
        "error=mean_squared_error(test['life_satisfaction'],y_pred,squared=False)\n",
        "error\n",
        "error_value.append(error)"
      ],
      "metadata": {
        "id": "UJfGFWl25dj7"
      },
      "execution_count": 147,
      "outputs": []
    },
    {
      "cell_type": "code",
      "source": [
        "test=df.iloc[[2]]\n",
        "train=df.drop(2)\n",
        "X=train[['gdp_per_capita']]\n",
        "y=train['life_satisfaction']\n",
        "model.fit(X,y)\n",
        "y_pred=model.predict(test[['gdp_per_capita']])\n",
        "error=mean_squared_error(test['life_satisfaction'],y_pred,squared=False)\n",
        "error\n",
        "error_value.append(error)"
      ],
      "metadata": {
        "id": "PFKiEarG5dVC"
      },
      "execution_count": 148,
      "outputs": []
    },
    {
      "cell_type": "code",
      "source": [
        "test=df.iloc[[3]]\n",
        "train=df.drop(3)\n",
        "X=train[['gdp_per_capita']]\n",
        "y=train['life_satisfaction']\n",
        "model.fit(X,y)\n",
        "y_pred=model.predict(test[['gdp_per_capita']])\n",
        "error=mean_squared_error(test['life_satisfaction'],y_pred,squared=False)\n",
        "error\n",
        "error_value.append(error)"
      ],
      "metadata": {
        "id": "got_AwDa5dOU"
      },
      "execution_count": 149,
      "outputs": []
    },
    {
      "cell_type": "code",
      "source": [
        "test=df.iloc[[4]]\n",
        "train=df.drop(4)\n",
        "X=train[['gdp_per_capita']]\n",
        "y=train['life_satisfaction']\n",
        "model.fit(X,y)\n",
        "y_pred=model.predict(test[['gdp_per_capita']])\n",
        "error=mean_squared_error(test['life_satisfaction'],y_pred,squared=False)\n",
        "error\n",
        "error_value.append(error)"
      ],
      "metadata": {
        "id": "gL8nFo465dJD"
      },
      "execution_count": 150,
      "outputs": []
    },
    {
      "cell_type": "code",
      "source": [
        "test=df.iloc[[5]]\n",
        "train=df.drop(5)\n",
        "X=train[['gdp_per_capita']]\n",
        "y=train['life_satisfaction']\n",
        "model.fit(X,y)\n",
        "y_pred=model.predict(test[['gdp_per_capita']])\n",
        "error=mean_squared_error(test['life_satisfaction'],y_pred,squared=False)\n",
        "error\n",
        "error_value.append(error)"
      ],
      "metadata": {
        "id": "7ZH0a8-GAC0W"
      },
      "execution_count": 151,
      "outputs": []
    },
    {
      "cell_type": "code",
      "source": [
        "test=df.iloc[[6]]\n",
        "train=df.drop(6)\n",
        "X=train[['gdp_per_capita']]\n",
        "y=train['life_satisfaction']\n",
        "model.fit(X,y)\n",
        "y_pred=model.predict(test[['gdp_per_capita']])\n",
        "error=mean_squared_error(test['life_satisfaction'],y_pred,squared=False)\n",
        "error\n",
        "error_value.append(error)"
      ],
      "metadata": {
        "id": "h-H-nt5kBl-M"
      },
      "execution_count": 152,
      "outputs": []
    },
    {
      "cell_type": "code",
      "source": [
        "test=df.iloc[[7]]\n",
        "train=df.drop(7)\n",
        "X=train[['gdp_per_capita']]\n",
        "y=train['life_satisfaction']\n",
        "model.fit(X,y)\n",
        "y_pred=model.predict(test[['gdp_per_capita']])\n",
        "error=mean_squared_error(test['life_satisfaction'],y_pred,squared=False)\n",
        "error\n",
        "error_value.append(error)"
      ],
      "metadata": {
        "id": "5uV_FCrXBl69"
      },
      "execution_count": 153,
      "outputs": []
    },
    {
      "cell_type": "code",
      "source": [
        "test=df.iloc[[8]]\n",
        "train=df.drop(8)\n",
        "X=train[['gdp_per_capita']]\n",
        "y=train['life_satisfaction']\n",
        "model.fit(X,y)\n",
        "y_pred=model.predict(test[['gdp_per_capita']])\n",
        "error=mean_squared_error(test['life_satisfaction'],y_pred,squared=False)\n",
        "error\n",
        "error_value.append(error)"
      ],
      "metadata": {
        "id": "AbRV4JGUUsXP"
      },
      "execution_count": 154,
      "outputs": []
    },
    {
      "cell_type": "code",
      "source": [
        "test=df.iloc[[9]]\n",
        "train=df.drop(9)\n",
        "X=train[['gdp_per_capita']]\n",
        "y=train['life_satisfaction']\n",
        "model.fit(X,y)\n",
        "y_pred=model.predict(test[['gdp_per_capita']])\n",
        "error=mean_squared_error(test['life_satisfaction'],y_pred,squared=False)\n",
        "error\n",
        "error_value.append(error)"
      ],
      "metadata": {
        "id": "t5ryg1_WUsQB"
      },
      "execution_count": 155,
      "outputs": []
    },
    {
      "cell_type": "code",
      "source": [
        "test=df.iloc[[10]]\n",
        "train=df.drop(10)\n",
        "X=train[['gdp_per_capita']]\n",
        "y=train['life_satisfaction']\n",
        "model.fit(X,y)\n",
        "y_pred=model.predict(test[['gdp_per_capita']])\n",
        "error=mean_squared_error(test['life_satisfaction'],y_pred,squared=False)\n",
        "error\n",
        "error_value.append(error)"
      ],
      "metadata": {
        "id": "zja9LD8FUsKa"
      },
      "execution_count": 156,
      "outputs": []
    },
    {
      "cell_type": "code",
      "source": [
        "test=df.iloc[[11]]\n",
        "train=df.drop(11)\n",
        "X=train[['gdp_per_capita']]\n",
        "y=train['life_satisfaction']\n",
        "model.fit(X,y)\n",
        "y_pred=model.predict(test[['gdp_per_capita']])\n",
        "error=mean_squared_error(test['life_satisfaction'],y_pred,squared=False)\n",
        "error\n",
        "error_value.append(error)"
      ],
      "metadata": {
        "id": "fS8Tz_WsUsGZ"
      },
      "execution_count": 157,
      "outputs": []
    },
    {
      "cell_type": "code",
      "source": [
        "test=df.iloc[[12]]\n",
        "train=df.drop(12)\n",
        "X=train[['gdp_per_capita']]\n",
        "y=train['life_satisfaction']\n",
        "model.fit(X,y)\n",
        "y_pred=model.predict(test[['gdp_per_capita']])\n",
        "error=mean_squared_error(test['life_satisfaction'],y_pred,squared=False)\n",
        "error\n",
        "error_value.append(error)"
      ],
      "metadata": {
        "id": "UOzOSl48UsCe"
      },
      "execution_count": 158,
      "outputs": []
    },
    {
      "cell_type": "code",
      "source": [
        "test=df.iloc[[13]]\n",
        "train=df.drop(13)\n",
        "X=train[['gdp_per_capita']]\n",
        "y=train['life_satisfaction']\n",
        "model.fit(X,y)\n",
        "y_pred=model.predict(test[['gdp_per_capita']])\n",
        "error=mean_squared_error(test['life_satisfaction'],y_pred,squared=False)\n",
        "error\n",
        "error_value.append(error)"
      ],
      "metadata": {
        "id": "QwRWM4e-Ur-3"
      },
      "execution_count": 159,
      "outputs": []
    },
    {
      "cell_type": "code",
      "source": [
        "test=df.iloc[[14]]\n",
        "train=df.drop(14)\n",
        "X=train[['gdp_per_capita']]\n",
        "y=train['life_satisfaction']\n",
        "model.fit(X,y)\n",
        "y_pred=model.predict(test[['gdp_per_capita']])\n",
        "error=mean_squared_error(test['life_satisfaction'],y_pred,squared=False)\n",
        "error\n",
        "error_value.append(error)"
      ],
      "metadata": {
        "id": "BTrpnIpQUr6z"
      },
      "execution_count": 160,
      "outputs": []
    },
    {
      "cell_type": "code",
      "source": [
        "test=df.iloc[[15]]\n",
        "train=df.drop(15)\n",
        "X=train[['gdp_per_capita']]\n",
        "y=train['life_satisfaction']\n",
        "model.fit(X,y)\n",
        "y_pred=model.predict(test[['gdp_per_capita']])\n",
        "error=mean_squared_error(test['life_satisfaction'],y_pred,squared=False)\n",
        "error\n",
        "error_value.append(error)"
      ],
      "metadata": {
        "id": "u6ecEvDkUruu"
      },
      "execution_count": 161,
      "outputs": []
    },
    {
      "cell_type": "code",
      "source": [
        "test=df.iloc[[16]]\n",
        "train=df.drop(16)\n",
        "X=train[['gdp_per_capita']]\n",
        "y=train['life_satisfaction']\n",
        "model.fit(X,y)\n",
        "y_pred=model.predict(test[['gdp_per_capita']])\n",
        "error=mean_squared_error(test['life_satisfaction'],y_pred,squared=False)\n",
        "error\n",
        "error_value.append(error)"
      ],
      "metadata": {
        "id": "hVf9c_4vUrqx"
      },
      "execution_count": 162,
      "outputs": []
    },
    {
      "cell_type": "code",
      "source": [
        "test=df.iloc[[17]]\n",
        "train=df.drop(17)\n",
        "X=train[['gdp_per_capita']]\n",
        "y=train['life_satisfaction']\n",
        "model.fit(X,y)\n",
        "y_pred=model.predict(test[['gdp_per_capita']])\n",
        "error=mean_squared_error(test['life_satisfaction'],y_pred,squared=False)\n",
        "error\n",
        "error_value.append(error)"
      ],
      "metadata": {
        "id": "FE3MgP0uUrnX"
      },
      "execution_count": 163,
      "outputs": []
    },
    {
      "cell_type": "code",
      "source": [
        "test=df.iloc[[18]]\n",
        "train=df.drop(18)\n",
        "X=train[['gdp_per_capita']]\n",
        "y=train['life_satisfaction']\n",
        "model.fit(X,y)\n",
        "y_pred=model.predict(test[['gdp_per_capita']])\n",
        "error=mean_squared_error(test['life_satisfaction'],y_pred,squared=False)\n",
        "error\n",
        "error_value.append(error)"
      ],
      "metadata": {
        "id": "la8LuRHmUrgd"
      },
      "execution_count": 164,
      "outputs": []
    },
    {
      "cell_type": "code",
      "source": [
        "test=df.iloc[[19]]\n",
        "train=df.drop(19)\n",
        "X=train[['gdp_per_capita']]\n",
        "y=train['life_satisfaction']\n",
        "model.fit(X,y)\n",
        "y_pred=model.predict(test[['gdp_per_capita']])\n",
        "error=mean_squared_error(test['life_satisfaction'],y_pred,squared=False)\n",
        "error\n",
        "error_value.append(error)"
      ],
      "metadata": {
        "id": "wyl2pnDMUrc_"
      },
      "execution_count": 165,
      "outputs": []
    },
    {
      "cell_type": "code",
      "source": [
        "test=df.iloc[[20]]\n",
        "train=df.drop(20)\n",
        "X=train[['gdp_per_capita']]\n",
        "y=train['life_satisfaction']\n",
        "model.fit(X,y)\n",
        "y_pred=model.predict(test[['gdp_per_capita']])\n",
        "error=mean_squared_error(test['life_satisfaction'],y_pred,squared=False)\n",
        "error\n",
        "error_value.append(error)"
      ],
      "metadata": {
        "id": "ryq79-C3UrZb"
      },
      "execution_count": 166,
      "outputs": []
    },
    {
      "cell_type": "code",
      "source": [
        "test=df.iloc[[21]]\n",
        "train=df.drop(21)\n",
        "X=train[['gdp_per_capita']]\n",
        "y=train['life_satisfaction']\n",
        "model.fit(X,y)\n",
        "y_pred=model.predict(test[['gdp_per_capita']])\n",
        "error=mean_squared_error(test['life_satisfaction'],y_pred,squared=False)\n",
        "error\n",
        "error_value.append(error)"
      ],
      "metadata": {
        "id": "Sexk_Q4bUrVw"
      },
      "execution_count": 167,
      "outputs": []
    },
    {
      "cell_type": "code",
      "source": [
        "test=df.iloc[[22]]\n",
        "train=df.drop(22)\n",
        "X=train[['gdp_per_capita']]\n",
        "y=train['life_satisfaction']\n",
        "model.fit(X,y)\n",
        "y_pred=model.predict(test[['gdp_per_capita']])\n",
        "error=mean_squared_error(test['life_satisfaction'],y_pred,squared=False)\n",
        "error\n",
        "error_value.append(error)"
      ],
      "metadata": {
        "id": "ANL6Y1TrUrRl"
      },
      "execution_count": 168,
      "outputs": []
    },
    {
      "cell_type": "code",
      "source": [
        "test=df.iloc[[23]]\n",
        "train=df.drop(23)\n",
        "X=train[['gdp_per_capita']]\n",
        "y=train['life_satisfaction']\n",
        "model.fit(X,y)\n",
        "y_pred=model.predict(test[['gdp_per_capita']])\n",
        "error=mean_squared_error(test['life_satisfaction'],y_pred,squared=False)\n",
        "error\n",
        "error_value.append(error)"
      ],
      "metadata": {
        "id": "x_C35t-RUrN2"
      },
      "execution_count": 169,
      "outputs": []
    },
    {
      "cell_type": "code",
      "source": [
        "test=df.iloc[[24]]\n",
        "train=df.drop(24)\n",
        "X=train[['gdp_per_capita']]\n",
        "y=train['life_satisfaction']\n",
        "model.fit(X,y)\n",
        "y_pred=model.predict(test[['gdp_per_capita']])\n",
        "error=mean_squared_error(test['life_satisfaction'],y_pred,squared=False)\n",
        "error\n",
        "error_value.append(error)"
      ],
      "metadata": {
        "id": "2iCUMs56UrJd"
      },
      "execution_count": 170,
      "outputs": []
    },
    {
      "cell_type": "code",
      "source": [
        "test=df.iloc[[25]]\n",
        "train=df.drop(25)\n",
        "X=train[['gdp_per_capita']]\n",
        "y=train['life_satisfaction']\n",
        "model.fit(X,y)\n",
        "y_pred=model.predict(test[['gdp_per_capita']])\n",
        "error=mean_squared_error(test['life_satisfaction'],y_pred,squared=False)\n",
        "error\n",
        "error_value.append(error)"
      ],
      "metadata": {
        "id": "eq82W_edUrFR"
      },
      "execution_count": 171,
      "outputs": []
    },
    {
      "cell_type": "code",
      "source": [
        "test=df.iloc[[26]]\n",
        "train=df.drop(26)\n",
        "X=train[['gdp_per_capita']]\n",
        "y=train['life_satisfaction']\n",
        "model.fit(X,y)\n",
        "y_pred=model.predict(test[['gdp_per_capita']])\n",
        "error=mean_squared_error(test['life_satisfaction'],y_pred,squared=False)\n",
        "error\n",
        "error_value.append(error)"
      ],
      "metadata": {
        "id": "qIF_H_F-X6JS"
      },
      "execution_count": 172,
      "outputs": []
    },
    {
      "cell_type": "code",
      "source": [
        "test=df.iloc[[27]]\n",
        "train=df.drop(27)\n",
        "X=train[['gdp_per_capita']]\n",
        "y=train['life_satisfaction']\n",
        "model.fit(X,y)\n",
        "y_pred=model.predict(test[['gdp_per_capita']])\n",
        "error=mean_squared_error(test['life_satisfaction'],y_pred,squared=False)\n",
        "error\n",
        "error_value.append(error)"
      ],
      "metadata": {
        "id": "ilw-Buq5X6EW"
      },
      "execution_count": 173,
      "outputs": []
    },
    {
      "cell_type": "code",
      "source": [
        "test=df.iloc[[28]]\n",
        "train=df.drop(28)\n",
        "X=train[['gdp_per_capita']]\n",
        "y=train['life_satisfaction']\n",
        "model.fit(X,y)\n",
        "y_pred=model.predict(test[['gdp_per_capita']])\n",
        "error=mean_squared_error(test['life_satisfaction'],y_pred,squared=False)\n",
        "error\n",
        "error_value.append(error)"
      ],
      "metadata": {
        "id": "B6dKomzxX5_7"
      },
      "execution_count": 174,
      "outputs": []
    },
    {
      "cell_type": "code",
      "source": [
        "print(np.mean(error_value))\n"
      ],
      "metadata": {
        "colab": {
          "base_uri": "https://localhost:8080/"
        },
        "id": "jgLxv5f_5FG6",
        "outputId": "24a5b6af-7c92-4465-91c2-b7836bbe4f60"
      },
      "execution_count": 210,
      "outputs": [
        {
          "output_type": "stream",
          "name": "stdout",
          "text": [
            "0.36436619133299797\n"
          ]
        }
      ]
    },
    {
      "cell_type": "code",
      "source": [
        "#knn"
      ],
      "metadata": {
        "id": "VbbYPvpABl04"
      },
      "execution_count": 176,
      "outputs": []
    },
    {
      "cell_type": "code",
      "source": [
        "knn=KNeighborsRegressor(n_neighbors=3)\n"
      ],
      "metadata": {
        "id": "y2b0bxW2Blxi"
      },
      "execution_count": 177,
      "outputs": []
    },
    {
      "cell_type": "code",
      "source": [
        "error_values=[]"
      ],
      "metadata": {
        "id": "wHyaH0AimxOj"
      },
      "execution_count": 178,
      "outputs": []
    },
    {
      "cell_type": "code",
      "source": [
        "test=df.iloc[[0]]\n",
        "train=df.drop(0)\n",
        "X=train[['gdp_per_capita']]\n",
        "y=train['life_satisfaction']\n",
        "knn.fit(X,y)\n",
        "y_pred=knn.predict(test[['gdp_per_capita']])\n",
        "error=mean_squared_error(test['life_satisfaction'],y_pred,squared=False)\n",
        "error\n",
        "error_values.append(error)"
      ],
      "metadata": {
        "id": "_GAv0IoBH1zl"
      },
      "execution_count": 179,
      "outputs": []
    },
    {
      "cell_type": "code",
      "source": [
        "test=df.iloc[[1]]\n",
        "train=df.drop(1)\n",
        "X=train[['gdp_per_capita']]\n",
        "y=train['life_satisfaction']\n",
        "knn.fit(X,y)\n",
        "y_pred=knn.predict(test[['gdp_per_capita']])\n",
        "error=mean_squared_error(test['life_satisfaction'],y_pred,squared=False)\n",
        "error\n",
        "error_values.append(error)"
      ],
      "metadata": {
        "id": "VQyyFyzdHGI0"
      },
      "execution_count": 180,
      "outputs": []
    },
    {
      "cell_type": "code",
      "source": [
        "test=df.iloc[[2]]\n",
        "train=df.drop(2)\n",
        "X=train[['gdp_per_capita']]\n",
        "y=train['life_satisfaction']\n",
        "knn.fit(X,y)\n",
        "y_pred=knn.predict(test[['gdp_per_capita']])\n",
        "error=mean_squared_error(test['life_satisfaction'],y_pred,squared=False)\n",
        "error\n",
        "error_values.append(error)"
      ],
      "metadata": {
        "id": "sAnxxuHvHF8Y"
      },
      "execution_count": 181,
      "outputs": []
    },
    {
      "cell_type": "code",
      "source": [
        "test=df.iloc[[3]]\n",
        "train=df.drop(3)\n",
        "X=train[['gdp_per_capita']]\n",
        "y=train['life_satisfaction']\n",
        "knn.fit(X,y)\n",
        "y_pred=knn.predict(test[['gdp_per_capita']])\n",
        "error=mean_squared_error(test['life_satisfaction'],y_pred,squared=False)\n",
        "error\n",
        "error_values.append(error)\n",
        "\n"
      ],
      "metadata": {
        "id": "AEyPJX-bHNhp"
      },
      "execution_count": 182,
      "outputs": []
    },
    {
      "cell_type": "code",
      "source": [
        "test=df.iloc[[4]]\n",
        "train=df.drop(4)\n",
        "X=train[['gdp_per_capita']]\n",
        "y=train['life_satisfaction']\n",
        "knn.fit(X,y)\n",
        "y_pred=knn.predict(test[['gdp_per_capita']])\n",
        "error=mean_squared_error(test['life_satisfaction'],y_pred,squared=False)\n",
        "error\n",
        "error_values.append(error)"
      ],
      "metadata": {
        "id": "ZjX_lpKLHFvJ"
      },
      "execution_count": 183,
      "outputs": []
    },
    {
      "cell_type": "code",
      "source": [
        "test=df.iloc[[5]]\n",
        "train=df.drop(5)\n",
        "X=train[['gdp_per_capita']]\n",
        "y=train['life_satisfaction']\n",
        "knn.fit(X,y)\n",
        "y_pred=knn.predict(test[['gdp_per_capita']])\n",
        "error=mean_squared_error(test['life_satisfaction'],y_pred,squared=False)\n",
        "error\n",
        "error_values.append(error)"
      ],
      "metadata": {
        "id": "WyfQDeRgBluc"
      },
      "execution_count": 184,
      "outputs": []
    },
    {
      "cell_type": "code",
      "source": [
        "test=df.iloc[[6]]\n",
        "train=df.drop(6)\n",
        "X=train[['gdp_per_capita']]\n",
        "y=train['life_satisfaction']\n",
        "knn.fit(X,y)\n",
        "y_pred=knn.predict(test[['gdp_per_capita']])\n",
        "error=mean_squared_error(test['life_satisfaction'],y_pred,squared=False)\n",
        "error\n",
        "error_values.append(error)"
      ],
      "metadata": {
        "id": "5-YVEl8HZVs_"
      },
      "execution_count": 185,
      "outputs": []
    },
    {
      "cell_type": "code",
      "source": [
        "test=df.iloc[[7]]\n",
        "train=df.drop(7)\n",
        "X=train[['gdp_per_capita']]\n",
        "y=train['life_satisfaction']\n",
        "knn.fit(X,y)\n",
        "y_pred=knn.predict(test[['gdp_per_capita']])\n",
        "error=mean_squared_error(test['life_satisfaction'],y_pred,squared=False)\n",
        "error\n",
        "error_values.append(error)"
      ],
      "metadata": {
        "id": "l1-lfleXZVpl"
      },
      "execution_count": 186,
      "outputs": []
    },
    {
      "cell_type": "code",
      "source": [
        "test=df.iloc[[8]]\n",
        "train=df.drop(8)\n",
        "X=train[['gdp_per_capita']]\n",
        "y=train['life_satisfaction']\n",
        "knn.fit(X,y)\n",
        "y_pred=knn.predict(test[['gdp_per_capita']])\n",
        "error=mean_squared_error(test['life_satisfaction'],y_pred,squared=False)\n",
        "error\n",
        "error_values.append(error)"
      ],
      "metadata": {
        "id": "9doFvpL2ZVl6"
      },
      "execution_count": 187,
      "outputs": []
    },
    {
      "cell_type": "code",
      "source": [
        "test=df.iloc[[9]]\n",
        "train=df.drop(9)\n",
        "X=train[['gdp_per_capita']]\n",
        "y=train['life_satisfaction']\n",
        "knn.fit(X,y)\n",
        "y_pred=knn.predict(test[['gdp_per_capita']])\n",
        "error=mean_squared_error(test['life_satisfaction'],y_pred,squared=False)\n",
        "error\n",
        "error_values.append(error)"
      ],
      "metadata": {
        "id": "NJWNNo0eZVh4"
      },
      "execution_count": 188,
      "outputs": []
    },
    {
      "cell_type": "code",
      "source": [
        "test=df.iloc[[10]]\n",
        "train=df.drop(10)\n",
        "X=train[['gdp_per_capita']]\n",
        "y=train['life_satisfaction']\n",
        "knn.fit(X,y)\n",
        "y_pred=knn.predict(test[['gdp_per_capita']])\n",
        "error=mean_squared_error(test['life_satisfaction'],y_pred,squared=False)\n",
        "error\n",
        "error_values.append(error)"
      ],
      "metadata": {
        "id": "VMOLvI2WZVd4"
      },
      "execution_count": 189,
      "outputs": []
    },
    {
      "cell_type": "code",
      "source": [
        "test=df.iloc[[11]]\n",
        "train=df.drop(11)\n",
        "X=train[['gdp_per_capita']]\n",
        "y=train['life_satisfaction']\n",
        "knn.fit(X,y)\n",
        "y_pred=knn.predict(test[['gdp_per_capita']])\n",
        "error=mean_squared_error(test['life_satisfaction'],y_pred,squared=False)\n",
        "error\n",
        "error_values.append(error)"
      ],
      "metadata": {
        "id": "TMFTAYf5ZVZt"
      },
      "execution_count": 190,
      "outputs": []
    },
    {
      "cell_type": "code",
      "source": [
        "test=df.iloc[[12]]\n",
        "train=df.drop(12)\n",
        "X=train[['gdp_per_capita']]\n",
        "y=train['life_satisfaction']\n",
        "knn.fit(X,y)\n",
        "y_pred=knn.predict(test[['gdp_per_capita']])\n",
        "error=mean_squared_error(test['life_satisfaction'],y_pred,squared=False)\n",
        "error\n",
        "error_values.append(error)"
      ],
      "metadata": {
        "id": "wDVdGUQ0ZVVw"
      },
      "execution_count": 191,
      "outputs": []
    },
    {
      "cell_type": "code",
      "source": [
        "test=df.iloc[[13]]\n",
        "train=df.drop(13)\n",
        "X=train[['gdp_per_capita']]\n",
        "y=train['life_satisfaction']\n",
        "knn.fit(X,y)\n",
        "y_pred=knn.predict(test[['gdp_per_capita']])\n",
        "error=mean_squared_error(test['life_satisfaction'],y_pred,squared=False)\n",
        "error\n",
        "error_values.append(error)"
      ],
      "metadata": {
        "id": "9M4if9V5ZVRy"
      },
      "execution_count": 192,
      "outputs": []
    },
    {
      "cell_type": "code",
      "source": [
        "test=df.iloc[[14]]\n",
        "train=df.drop(14)\n",
        "X=train[['gdp_per_capita']]\n",
        "y=train['life_satisfaction']\n",
        "knn.fit(X,y)\n",
        "y_pred=knn.predict(test[['gdp_per_capita']])\n",
        "error=mean_squared_error(test['life_satisfaction'],y_pred,squared=False)\n",
        "error\n",
        "error_values.append(error)"
      ],
      "metadata": {
        "id": "gYBPEJsJZVNL"
      },
      "execution_count": 193,
      "outputs": []
    },
    {
      "cell_type": "code",
      "source": [
        "test=df.iloc[[15]]\n",
        "train=df.drop(15)\n",
        "X=train[['gdp_per_capita']]\n",
        "y=train['life_satisfaction']\n",
        "knn.fit(X,y)\n",
        "y_pred=knn.predict(test[['gdp_per_capita']])\n",
        "error=mean_squared_error(test['life_satisfaction'],y_pred,squared=False)\n",
        "error\n",
        "error_values.append(error)"
      ],
      "metadata": {
        "id": "5v1MjwWGZVJC"
      },
      "execution_count": 194,
      "outputs": []
    },
    {
      "cell_type": "code",
      "source": [
        "test=df.iloc[[16]]\n",
        "train=df.drop(16)\n",
        "X=train[['gdp_per_capita']]\n",
        "y=train['life_satisfaction']\n",
        "knn.fit(X,y)\n",
        "y_pred=knn.predict(test[['gdp_per_capita']])\n",
        "error=mean_squared_error(test['life_satisfaction'],y_pred,squared=False)\n",
        "error\n",
        "error_values.append(error)"
      ],
      "metadata": {
        "id": "dR7uTjmwZVDT"
      },
      "execution_count": 195,
      "outputs": []
    },
    {
      "cell_type": "code",
      "source": [
        "test=df.iloc[[17]]\n",
        "train=df.drop(17)\n",
        "X=train[['gdp_per_capita']]\n",
        "y=train['life_satisfaction']\n",
        "knn.fit(X,y)\n",
        "y_pred=knn.predict(test[['gdp_per_capita']])\n",
        "error=mean_squared_error(test['life_satisfaction'],y_pred,squared=False)\n",
        "error\n",
        "error_values.append(error)"
      ],
      "metadata": {
        "id": "-KTqTim1ZU-5"
      },
      "execution_count": 196,
      "outputs": []
    },
    {
      "cell_type": "code",
      "source": [
        "test=df.iloc[[18]]\n",
        "train=df.drop(18)\n",
        "X=train[['gdp_per_capita']]\n",
        "y=train['life_satisfaction']\n",
        "knn.fit(X,y)\n",
        "y_pred=knn.predict(test[['gdp_per_capita']])\n",
        "error=mean_squared_error(test['life_satisfaction'],y_pred,squared=False)\n",
        "error\n",
        "error_values.append(error)"
      ],
      "metadata": {
        "id": "tU9FqcRaZU7N"
      },
      "execution_count": 197,
      "outputs": []
    },
    {
      "cell_type": "code",
      "source": [
        "test=df.iloc[[19]]\n",
        "train=df.drop(19)\n",
        "X=train[['gdp_per_capita']]\n",
        "y=train['life_satisfaction']\n",
        "knn.fit(X,y)\n",
        "y_pred=knn.predict(test[['gdp_per_capita']])\n",
        "error=mean_squared_error(test['life_satisfaction'],y_pred,squared=False)\n",
        "error\n",
        "error_values.append(error)"
      ],
      "metadata": {
        "id": "1WBv7TNYZU3v"
      },
      "execution_count": 198,
      "outputs": []
    },
    {
      "cell_type": "code",
      "source": [
        "test=df.iloc[[20]]\n",
        "train=df.drop(20)\n",
        "X=train[['gdp_per_capita']]\n",
        "y=train['life_satisfaction']\n",
        "knn.fit(X,y)\n",
        "y_pred=knn.predict(test[['gdp_per_capita']])\n",
        "error=mean_squared_error(test['life_satisfaction'],y_pred,squared=False)\n",
        "error\n",
        "error_values.append(error)"
      ],
      "metadata": {
        "id": "SAWW0PaJZUz2"
      },
      "execution_count": 199,
      "outputs": []
    },
    {
      "cell_type": "code",
      "source": [
        "test=df.iloc[[21]]\n",
        "train=df.drop(21)\n",
        "X=train[['gdp_per_capita']]\n",
        "y=train['life_satisfaction']\n",
        "knn.fit(X,y)\n",
        "y_pred=knn.predict(test[['gdp_per_capita']])\n",
        "error=mean_squared_error(test['life_satisfaction'],y_pred,squared=False)\n",
        "error\n",
        "error_values.append(error)"
      ],
      "metadata": {
        "id": "E7Wa9IGvZUvx"
      },
      "execution_count": 200,
      "outputs": []
    },
    {
      "cell_type": "code",
      "source": [
        "test=df.iloc[[22]]\n",
        "train=df.drop(22)\n",
        "X=train[['gdp_per_capita']]\n",
        "y=train['life_satisfaction']\n",
        "knn.fit(X,y)\n",
        "y_pred=knn.predict(test[['gdp_per_capita']])\n",
        "error=mean_squared_error(test['life_satisfaction'],y_pred,squared=False)\n",
        "error\n",
        "error_values.append(error)"
      ],
      "metadata": {
        "id": "cKhkBO1wZUr7"
      },
      "execution_count": 201,
      "outputs": []
    },
    {
      "cell_type": "code",
      "source": [
        "test=df.iloc[[23]]\n",
        "train=df.drop(23)\n",
        "X=train[['gdp_per_capita']]\n",
        "y=train['life_satisfaction']\n",
        "knn.fit(X,y)\n",
        "y_pred=knn.predict(test[['gdp_per_capita']])\n",
        "error=mean_squared_error(test['life_satisfaction'],y_pred,squared=False)\n",
        "error\n",
        "error_values.append(error)"
      ],
      "metadata": {
        "id": "oNAeuY8nZUoE"
      },
      "execution_count": 202,
      "outputs": []
    },
    {
      "cell_type": "code",
      "source": [
        "test=df.iloc[[24]]\n",
        "train=df.drop(24)\n",
        "X=train[['gdp_per_capita']]\n",
        "y=train['life_satisfaction']\n",
        "knn.fit(X,y)\n",
        "y_pred=knn.predict(test[['gdp_per_capita']])\n",
        "error=mean_squared_error(test['life_satisfaction'],y_pred,squared=False)\n",
        "error\n",
        "error_values.append(error)"
      ],
      "metadata": {
        "id": "0xW8sqJgZUjy"
      },
      "execution_count": 203,
      "outputs": []
    },
    {
      "cell_type": "code",
      "source": [
        "test=df.iloc[[25]]\n",
        "train=df.drop(25)\n",
        "X=train[['gdp_per_capita']]\n",
        "y=train['life_satisfaction']\n",
        "knn.fit(X,y)\n",
        "y_pred=knn.predict(test[['gdp_per_capita']])\n",
        "error=mean_squared_error(test['life_satisfaction'],y_pred,squared=False)\n",
        "error\n",
        "error_values.append(error)"
      ],
      "metadata": {
        "id": "yeXgBLa7Zrqx"
      },
      "execution_count": 205,
      "outputs": []
    },
    {
      "cell_type": "code",
      "source": [
        "test=df.iloc[[26]]\n",
        "train=df.drop(26)\n",
        "X=train[['gdp_per_capita']]\n",
        "y=train['life_satisfaction']\n",
        "knn.fit(X,y)\n",
        "y_pred=knn.predict(test[['gdp_per_capita']])\n",
        "error=mean_squared_error(test['life_satisfaction'],y_pred,squared=False)\n",
        "error\n",
        "error_values.append(error)\n"
      ],
      "metadata": {
        "id": "AXAd7UMeZUfz"
      },
      "execution_count": 204,
      "outputs": []
    },
    {
      "cell_type": "code",
      "source": [
        "test=df.iloc[[27]]\n",
        "train=df.drop(27)\n",
        "X=train[['gdp_per_capita']]\n",
        "y=train['life_satisfaction']\n",
        "knn.fit(X,y)\n",
        "y_pred=knn.predict(test[['gdp_per_capita']])\n",
        "error=mean_squared_error(test['life_satisfaction'],y_pred,squared=False)\n",
        "error\n",
        "error_values.append(error)"
      ],
      "metadata": {
        "id": "BS3K4NwCBlqn"
      },
      "execution_count": 206,
      "outputs": []
    },
    {
      "cell_type": "code",
      "source": [
        "test=df.iloc[[28]]\n",
        "train=df.drop(28)\n",
        "X=train[['gdp_per_capita']]\n",
        "y=train['life_satisfaction']\n",
        "knn.fit(X,y)\n",
        "y_pred=knn.predict(test[['gdp_per_capita']])\n",
        "error=mean_squared_error(test['life_satisfaction'],y_pred,squared=False)\n",
        "error\n",
        "error_values.append(error)"
      ],
      "metadata": {
        "id": "eoYIgautZrzV"
      },
      "execution_count": 207,
      "outputs": []
    },
    {
      "cell_type": "code",
      "source": [
        "print(np.mean(error_values))"
      ],
      "metadata": {
        "colab": {
          "base_uri": "https://localhost:8080/"
        },
        "id": "g5oGN6qzpK1W",
        "outputId": "f533bb0b-a780-4841-ec8b-8c4e348e1bae"
      },
      "execution_count": 209,
      "outputs": [
        {
          "output_type": "stream",
          "name": "stdout",
          "text": [
            "0.38620689655172424\n"
          ]
        }
      ]
    },
    {
      "cell_type": "code",
      "source": [
        "#addding /inserting a new row on the existing dataframe\n",
        "#df.loc[len(df.index)] = ['Faketopia', 60000, 0]\n",
        "#df"
      ],
      "metadata": {
        "id": "onrrwzautY7h"
      },
      "execution_count": null,
      "outputs": []
    }
  ]
}